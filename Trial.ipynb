{
 "cells": [
  {
   "cell_type": "code",
   "execution_count": 5,
   "id": "69209122",
   "metadata": {},
   "outputs": [],
   "source": [
    "class Vechile:\n",
    "    def __init__(self,name,color,mileage,cost):\n",
    "        self.name = name\n",
    "        self.color = color\n",
    "        self.mileage = mileage \n",
    "        self.cost = cost\n",
    "        \n",
    "    def Vechile_detail(self):\n",
    "        print(\"The Name of Vechile is :\",self.name)\n",
    "        print(\"The color of Vechile is :\",self.color)\n",
    "        print(\"the mileage of vechile is :\" , self.mileage)\n",
    "        print(\"the Cost of vechile is :\",self.cost)"
   ]
  },
  {
   "cell_type": "code",
   "execution_count": 6,
   "id": "e6eec3e3",
   "metadata": {},
   "outputs": [],
   "source": [
    "vech1 = Vechile(\"Pulsar\",\"Red\",55,124546)"
   ]
  },
  {
   "cell_type": "code",
   "execution_count": 7,
   "id": "32d2d5cf",
   "metadata": {},
   "outputs": [
    {
     "name": "stdout",
     "output_type": "stream",
     "text": [
      "The Name of Vechile is : Pulsar\n",
      "The color of Vechile is : Red\n",
      "the mileage of vechile is : 55\n",
      "the Cost of vechile is : 124546\n"
     ]
    }
   ],
   "source": [
    "vech1.Vechile_detail()"
   ]
  },
  {
   "cell_type": "code",
   "execution_count": null,
   "id": "ab754a60",
   "metadata": {},
   "outputs": [],
   "source": []
  }
 ],
 "metadata": {
  "kernelspec": {
   "display_name": "Python 3 (ipykernel)",
   "language": "python",
   "name": "python3"
  },
  "language_info": {
   "codemirror_mode": {
    "name": "ipython",
    "version": 3
   },
   "file_extension": ".py",
   "mimetype": "text/x-python",
   "name": "python",
   "nbconvert_exporter": "python",
   "pygments_lexer": "ipython3",
   "version": "3.9.12"
  }
 },
 "nbformat": 4,
 "nbformat_minor": 5
}
