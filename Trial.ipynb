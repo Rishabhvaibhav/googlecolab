{
  "cells": [
    {
      "cell_type": "code",
      "execution_count": 118,
      "id": "69209122",
      "metadata": {
        "colab": {
          "base_uri": "https://localhost:8080/"
        },
        "id": "69209122",
        "outputId": "1be670a9-ef84-4c67-ec24-10805bd15ab6"
      },
      "outputs": [
        {
          "output_type": "stream",
          "name": "stdout",
          "text": [
            "Looking in indexes: https://pypi.org/simple, https://us-python.pkg.dev/colab-wheels/public/simple/\n",
            "Requirement already satisfied: pyspark in /usr/local/lib/python3.7/dist-packages (3.3.1)\n",
            "Requirement already satisfied: py4j==0.10.9.5 in /usr/local/lib/python3.7/dist-packages (from pyspark) (0.10.9.5)\n",
            "Looking in indexes: https://pypi.org/simple, https://us-python.pkg.dev/colab-wheels/public/simple/\n",
            "Requirement already satisfied: py4j in /usr/local/lib/python3.7/dist-packages (0.10.9.5)\n"
          ]
        }
      ],
      "source": [
        "!pip install pyspark\n",
        "!pip install py4j\n",
        "!apt-get install openjdk-8-jdk-headless -qq > /dev/null\n",
        "!wget -q https://www.apache.org/dyn/closer.lua/spark/spark-3.3.1/spark-3.3.1-bin-hadoop3.tgz\n",
        "!pip install -q findspark"
      ]
    },
    {
      "cell_type": "code",
      "execution_count": 119,
      "id": "e6eec3e3",
      "metadata": {
        "colab": {
          "base_uri": "https://localhost:8080/",
          "height": 74
        },
        "id": "e6eec3e3",
        "outputId": "1e893e12-61bf-488e-88af-4ffa36e51c2d"
      },
      "outputs": [
        {
          "output_type": "display_data",
          "data": {
            "text/plain": [
              "<IPython.core.display.HTML object>"
            ],
            "text/html": [
              "\n",
              "     <input type=\"file\" id=\"files-770b4bc9-62c7-411f-862a-66c62af81d13\" name=\"files[]\" multiple disabled\n",
              "        style=\"border:none\" />\n",
              "     <output id=\"result-770b4bc9-62c7-411f-862a-66c62af81d13\">\n",
              "      Upload widget is only available when the cell has been executed in the\n",
              "      current browser session. Please rerun this cell to enable.\n",
              "      </output>\n",
              "      <script>// Copyright 2017 Google LLC\n",
              "//\n",
              "// Licensed under the Apache License, Version 2.0 (the \"License\");\n",
              "// you may not use this file except in compliance with the License.\n",
              "// You may obtain a copy of the License at\n",
              "//\n",
              "//      http://www.apache.org/licenses/LICENSE-2.0\n",
              "//\n",
              "// Unless required by applicable law or agreed to in writing, software\n",
              "// distributed under the License is distributed on an \"AS IS\" BASIS,\n",
              "// WITHOUT WARRANTIES OR CONDITIONS OF ANY KIND, either express or implied.\n",
              "// See the License for the specific language governing permissions and\n",
              "// limitations under the License.\n",
              "\n",
              "/**\n",
              " * @fileoverview Helpers for google.colab Python module.\n",
              " */\n",
              "(function(scope) {\n",
              "function span(text, styleAttributes = {}) {\n",
              "  const element = document.createElement('span');\n",
              "  element.textContent = text;\n",
              "  for (const key of Object.keys(styleAttributes)) {\n",
              "    element.style[key] = styleAttributes[key];\n",
              "  }\n",
              "  return element;\n",
              "}\n",
              "\n",
              "// Max number of bytes which will be uploaded at a time.\n",
              "const MAX_PAYLOAD_SIZE = 100 * 1024;\n",
              "\n",
              "function _uploadFiles(inputId, outputId) {\n",
              "  const steps = uploadFilesStep(inputId, outputId);\n",
              "  const outputElement = document.getElementById(outputId);\n",
              "  // Cache steps on the outputElement to make it available for the next call\n",
              "  // to uploadFilesContinue from Python.\n",
              "  outputElement.steps = steps;\n",
              "\n",
              "  return _uploadFilesContinue(outputId);\n",
              "}\n",
              "\n",
              "// This is roughly an async generator (not supported in the browser yet),\n",
              "// where there are multiple asynchronous steps and the Python side is going\n",
              "// to poll for completion of each step.\n",
              "// This uses a Promise to block the python side on completion of each step,\n",
              "// then passes the result of the previous step as the input to the next step.\n",
              "function _uploadFilesContinue(outputId) {\n",
              "  const outputElement = document.getElementById(outputId);\n",
              "  const steps = outputElement.steps;\n",
              "\n",
              "  const next = steps.next(outputElement.lastPromiseValue);\n",
              "  return Promise.resolve(next.value.promise).then((value) => {\n",
              "    // Cache the last promise value to make it available to the next\n",
              "    // step of the generator.\n",
              "    outputElement.lastPromiseValue = value;\n",
              "    return next.value.response;\n",
              "  });\n",
              "}\n",
              "\n",
              "/**\n",
              " * Generator function which is called between each async step of the upload\n",
              " * process.\n",
              " * @param {string} inputId Element ID of the input file picker element.\n",
              " * @param {string} outputId Element ID of the output display.\n",
              " * @return {!Iterable<!Object>} Iterable of next steps.\n",
              " */\n",
              "function* uploadFilesStep(inputId, outputId) {\n",
              "  const inputElement = document.getElementById(inputId);\n",
              "  inputElement.disabled = false;\n",
              "\n",
              "  const outputElement = document.getElementById(outputId);\n",
              "  outputElement.innerHTML = '';\n",
              "\n",
              "  const pickedPromise = new Promise((resolve) => {\n",
              "    inputElement.addEventListener('change', (e) => {\n",
              "      resolve(e.target.files);\n",
              "    });\n",
              "  });\n",
              "\n",
              "  const cancel = document.createElement('button');\n",
              "  inputElement.parentElement.appendChild(cancel);\n",
              "  cancel.textContent = 'Cancel upload';\n",
              "  const cancelPromise = new Promise((resolve) => {\n",
              "    cancel.onclick = () => {\n",
              "      resolve(null);\n",
              "    };\n",
              "  });\n",
              "\n",
              "  // Wait for the user to pick the files.\n",
              "  const files = yield {\n",
              "    promise: Promise.race([pickedPromise, cancelPromise]),\n",
              "    response: {\n",
              "      action: 'starting',\n",
              "    }\n",
              "  };\n",
              "\n",
              "  cancel.remove();\n",
              "\n",
              "  // Disable the input element since further picks are not allowed.\n",
              "  inputElement.disabled = true;\n",
              "\n",
              "  if (!files) {\n",
              "    return {\n",
              "      response: {\n",
              "        action: 'complete',\n",
              "      }\n",
              "    };\n",
              "  }\n",
              "\n",
              "  for (const file of files) {\n",
              "    const li = document.createElement('li');\n",
              "    li.append(span(file.name, {fontWeight: 'bold'}));\n",
              "    li.append(span(\n",
              "        `(${file.type || 'n/a'}) - ${file.size} bytes, ` +\n",
              "        `last modified: ${\n",
              "            file.lastModifiedDate ? file.lastModifiedDate.toLocaleDateString() :\n",
              "                                    'n/a'} - `));\n",
              "    const percent = span('0% done');\n",
              "    li.appendChild(percent);\n",
              "\n",
              "    outputElement.appendChild(li);\n",
              "\n",
              "    const fileDataPromise = new Promise((resolve) => {\n",
              "      const reader = new FileReader();\n",
              "      reader.onload = (e) => {\n",
              "        resolve(e.target.result);\n",
              "      };\n",
              "      reader.readAsArrayBuffer(file);\n",
              "    });\n",
              "    // Wait for the data to be ready.\n",
              "    let fileData = yield {\n",
              "      promise: fileDataPromise,\n",
              "      response: {\n",
              "        action: 'continue',\n",
              "      }\n",
              "    };\n",
              "\n",
              "    // Use a chunked sending to avoid message size limits. See b/62115660.\n",
              "    let position = 0;\n",
              "    do {\n",
              "      const length = Math.min(fileData.byteLength - position, MAX_PAYLOAD_SIZE);\n",
              "      const chunk = new Uint8Array(fileData, position, length);\n",
              "      position += length;\n",
              "\n",
              "      const base64 = btoa(String.fromCharCode.apply(null, chunk));\n",
              "      yield {\n",
              "        response: {\n",
              "          action: 'append',\n",
              "          file: file.name,\n",
              "          data: base64,\n",
              "        },\n",
              "      };\n",
              "\n",
              "      let percentDone = fileData.byteLength === 0 ?\n",
              "          100 :\n",
              "          Math.round((position / fileData.byteLength) * 100);\n",
              "      percent.textContent = `${percentDone}% done`;\n",
              "\n",
              "    } while (position < fileData.byteLength);\n",
              "  }\n",
              "\n",
              "  // All done.\n",
              "  yield {\n",
              "    response: {\n",
              "      action: 'complete',\n",
              "    }\n",
              "  };\n",
              "}\n",
              "\n",
              "scope.google = scope.google || {};\n",
              "scope.google.colab = scope.google.colab || {};\n",
              "scope.google.colab._files = {\n",
              "  _uploadFiles,\n",
              "  _uploadFilesContinue,\n",
              "};\n",
              "})(self);\n",
              "</script> "
            ]
          },
          "metadata": {}
        },
        {
          "output_type": "stream",
          "name": "stdout",
          "text": [
            "Saving movies.csv to movies (1).csv\n"
          ]
        }
      ],
      "source": [
        "from google.colab import files\n",
        "movies = files.upload()"
      ]
    },
    {
      "cell_type": "code",
      "execution_count": 120,
      "id": "32d2d5cf",
      "metadata": {
        "id": "32d2d5cf"
      },
      "outputs": [],
      "source": [
        "from pyspark.sql import SparkSession\n",
        "spark = SparkSession.builder.master(\"local\") \\\n",
        ".appName(\"trial\")  \\\n",
        ".config('spark.ui.port','4050') \\\n",
        ".getOrCreate()"
      ]
    },
    {
      "cell_type": "code",
      "execution_count": 121,
      "id": "ab754a60",
      "metadata": {
        "colab": {
          "base_uri": "https://localhost:8080/",
          "height": 222
        },
        "id": "ab754a60",
        "outputId": "a09fe0e1-eb75-44c6-92a9-19e34b0a3f16"
      },
      "outputs": [
        {
          "output_type": "execute_result",
          "data": {
            "text/plain": [
              "<pyspark.sql.session.SparkSession at 0x7f4d7718b610>"
            ],
            "text/html": [
              "\n",
              "            <div>\n",
              "                <p><b>SparkSession - in-memory</b></p>\n",
              "                \n",
              "        <div>\n",
              "            <p><b>SparkContext</b></p>\n",
              "\n",
              "            <p><a href=\"http://5cdc65452e0e:4050\">Spark UI</a></p>\n",
              "\n",
              "            <dl>\n",
              "              <dt>Version</dt>\n",
              "                <dd><code>v3.3.1</code></dd>\n",
              "              <dt>Master</dt>\n",
              "                <dd><code>local</code></dd>\n",
              "              <dt>AppName</dt>\n",
              "                <dd><code>trial</code></dd>\n",
              "            </dl>\n",
              "        </div>\n",
              "        \n",
              "            </div>\n",
              "        "
            ]
          },
          "metadata": {},
          "execution_count": 121
        }
      ],
      "source": [
        "spark"
      ]
    },
    {
      "cell_type": "code",
      "source": [
        "dataframe = spark.read.csv('movies.csv')\n",
        "dataframe.printSchema()"
      ],
      "metadata": {
        "colab": {
          "base_uri": "https://localhost:8080/"
        },
        "id": "rwKBPH-7xUxU",
        "outputId": "a416d091-964d-4327-ed33-64bc1de422d6"
      },
      "id": "rwKBPH-7xUxU",
      "execution_count": 122,
      "outputs": [
        {
          "output_type": "stream",
          "name": "stdout",
          "text": [
            "root\n",
            " |-- _c0: string (nullable = true)\n",
            " |-- _c1: string (nullable = true)\n",
            " |-- _c2: string (nullable = true)\n",
            "\n"
          ]
        }
      ]
    },
    {
      "cell_type": "code",
      "source": [
        "dataframe = spark.read.format(\"csv\").option(\"header\",\"false\").load(\"movies.csv\")\n",
        "dataframe.show()"
      ],
      "metadata": {
        "colab": {
          "base_uri": "https://localhost:8080/"
        },
        "id": "8JloUVdYyGyc",
        "outputId": "4390769a-5588-450f-8de0-9b47069d406c"
      },
      "id": "8JloUVdYyGyc",
      "execution_count": 123,
      "outputs": [
        {
          "output_type": "stream",
          "name": "stdout",
          "text": [
            "+--------------------+--------------------+----+\n",
            "|                 _c0|                 _c1| _c2|\n",
            "+--------------------+--------------------+----+\n",
            "|1::Toy Story (199...|                null|null|\n",
            "|2::Jumanji (1995)...|                null|null|\n",
            "|3::Grumpier Old M...|                null|null|\n",
            "|4::Waiting to Exh...|                null|null|\n",
            "|5::Father of the ...|                null|null|\n",
            "|6::Heat (1995)::A...|                null|null|\n",
            "|7::Sabrina (1995)...|                null|null|\n",
            "|8::Tom and Huck (...|                null|null|\n",
            "|9::Sudden Death (...|                null|null|\n",
            "|10::GoldenEye (19...|                null|null|\n",
            "|11::American Pres...| The (1995)::Come...|null|\n",
            "|12::Dracula: Dead...|                null|null|\n",
            "|13::Balto (1995):...|                null|null|\n",
            "|14::Nixon (1995):...|                null|null|\n",
            "|15::Cutthroat Isl...|                null|null|\n",
            "|16::Casino (1995)...|                null|null|\n",
            "|17::Sense and Sen...|                null|null|\n",
            "|18::Four Rooms (1...|                null|null|\n",
            "|19::Ace Ventura: ...|                null|null|\n",
            "|20::Money Train (...|                null|null|\n",
            "+--------------------+--------------------+----+\n",
            "only showing top 20 rows\n",
            "\n"
          ]
        }
      ]
    },
    {
      "cell_type": "code",
      "source": [
        "from pyspark.context import SparkContext\n",
        "import pyspark.sql\n",
        "from pyspark.sql import SQLContext\n",
        "from pyspark.sql import SparkSession\n",
        "from pyspark import SparkFiles"
      ],
      "metadata": {
        "id": "zKzmlnHt1ntW"
      },
      "id": "zKzmlnHt1ntW",
      "execution_count": 124,
      "outputs": []
    },
    {
      "cell_type": "code",
      "source": [
        "from pyspark.sql import SparkSession\n",
        "from pyspark.sql.functions import split, col \n",
        "import pyspark.sql.functions as f"
      ],
      "metadata": {
        "id": "I2bVX36cPOL_"
      },
      "id": "I2bVX36cPOL_",
      "execution_count": 125,
      "outputs": []
    },
    {
      "cell_type": "code",
      "source": [
        "from pyspark.sql.types import StructType, StructField, StringType, IntegerType"
      ],
      "metadata": {
        "id": "RqyxyHENyTVv"
      },
      "id": "RqyxyHENyTVv",
      "execution_count": 126,
      "outputs": []
    },
    {
      "cell_type": "code",
      "source": [
        "schema = StructType([\n",
        "    StructField(\"Id\",IntegerType(),True), \\\n",
        "    StructField(\"movie_name\",StringType(),True), \\\n",
        "    StructField(\"movies genre\",StringType(),True),\\\n",
        "                     ])"
      ],
      "metadata": {
        "id": "JXoS12sy16xU"
      },
      "id": "JXoS12sy16xU",
      "execution_count": 160,
      "outputs": []
    },
    {
      "cell_type": "code",
      "source": [
        "df=spark.read.csv(\"movies.csv\", sep=\"::\",schema=schema)\n",
        "df.show(truncate = False)"
      ],
      "metadata": {
        "colab": {
          "base_uri": "https://localhost:8080/"
        },
        "id": "g0b-mEUS2lOD",
        "outputId": "69d55e80-ed8c-4448-e317-747df2c5b1c6"
      },
      "id": "g0b-mEUS2lOD",
      "execution_count": 161,
      "outputs": [
        {
          "output_type": "stream",
          "name": "stdout",
          "text": [
            "+---+-------------------------------------+------------------------------+\n",
            "|Id |movie_name                           |movies genre                  |\n",
            "+---+-------------------------------------+------------------------------+\n",
            "|1  |Toy Story (1995)                     |Animation|Children's|Comedy,, |\n",
            "|2  |Jumanji (1995)                       |Adventure|Children's|Fantasy,,|\n",
            "|3  |Grumpier Old Men (1995)              |Comedy|Romance,,              |\n",
            "|4  |Waiting to Exhale (1995)             |Comedy|Drama,,                |\n",
            "|5  |Father of the Bride Part II (1995)   |Comedy,,                      |\n",
            "|6  |Heat (1995)                          |Action|Crime|Thriller,,       |\n",
            "|7  |Sabrina (1995)                       |Comedy|Romance,,              |\n",
            "|8  |Tom and Huck (1995)                  |Adventure|Children's,,        |\n",
            "|9  |Sudden Death (1995)                  |Action,,                      |\n",
            "|10 |GoldenEye (1995)                     |Action|Adventure|Thriller,,   |\n",
            "|11 |American President, The (1995)       |Comedy|Drama|Romance,         |\n",
            "|12 |Dracula: Dead and Loving It (1995)   |Comedy|Horror,,               |\n",
            "|13 |Balto (1995)                         |Animation|Children's,,        |\n",
            "|14 |Nixon (1995)                         |Drama,,                       |\n",
            "|15 |Cutthroat Island (1995)              |Action|Adventure|Romance,,    |\n",
            "|16 |Casino (1995)                        |Drama|Thriller,,              |\n",
            "|17 |Sense and Sensibility (1995)         |Drama|Romance,,               |\n",
            "|18 |Four Rooms (1995)                    |Thriller,,                    |\n",
            "|19 |Ace Ventura: When Nature Calls (1995)|Comedy,,                      |\n",
            "|20 |Money Train (1995)                   |Action,,                      |\n",
            "+---+-------------------------------------+------------------------------+\n",
            "only showing top 20 rows\n",
            "\n"
          ]
        }
      ]
    },
    {
      "cell_type": "code",
      "source": [
        "df3 = df.withColumn('year2', split(df['movie_name'], \" \").getItem(1)).show(5)"
      ],
      "metadata": {
        "id": "fqtnysdUPo01",
        "colab": {
          "base_uri": "https://localhost:8080/"
        },
        "outputId": "2dea51a0-0ff2-4ab6-b70b-0713108154f5"
      },
      "id": "fqtnysdUPo01",
      "execution_count": 163,
      "outputs": [
        {
          "output_type": "stream",
          "name": "stdout",
          "text": [
            "+---+--------------------+--------------------+------+\n",
            "| Id|          movie_name|        movies genre| year2|\n",
            "+---+--------------------+--------------------+------+\n",
            "|  1|    Toy Story (1995)|Animation|Childre...| Story|\n",
            "|  2|      Jumanji (1995)|Adventure|Childre...|(1995)|\n",
            "|  3|Grumpier Old Men ...|    Comedy|Romance,,|   Old|\n",
            "|  4|Waiting to Exhale...|      Comedy|Drama,,|    to|\n",
            "|  5|Father of the Bri...|            Comedy,,|    of|\n",
            "+---+--------------------+--------------------+------+\n",
            "only showing top 5 rows\n",
            "\n"
          ]
        }
      ]
    },
    {
      "cell_type": "code",
      "source": [
        "df4 = df.withColumn(\"Year_Release\", f.regexp_extract(df['movie_name'], '[1-9][0-9]*',0))\n",
        "df4.show(5)\n"
      ],
      "metadata": {
        "id": "pLFZrFU_UmG9",
        "colab": {
          "base_uri": "https://localhost:8080/"
        },
        "outputId": "e6cbd415-8bb6-4443-f07a-4e56a24ff81a"
      },
      "id": "pLFZrFU_UmG9",
      "execution_count": 164,
      "outputs": [
        {
          "output_type": "stream",
          "name": "stdout",
          "text": [
            "+---+--------------------+--------------------+------------+\n",
            "| Id|          movie_name|        movies genre|Year_Release|\n",
            "+---+--------------------+--------------------+------------+\n",
            "|  1|    Toy Story (1995)|Animation|Childre...|        1995|\n",
            "|  2|      Jumanji (1995)|Adventure|Childre...|        1995|\n",
            "|  3|Grumpier Old Men ...|    Comedy|Romance,,|        1995|\n",
            "|  4|Waiting to Exhale...|      Comedy|Drama,,|        1995|\n",
            "|  5|Father of the Bri...|            Comedy,,|        1995|\n",
            "+---+--------------------+--------------------+------------+\n",
            "only showing top 5 rows\n",
            "\n"
          ]
        }
      ]
    },
    {
      "cell_type": "code",
      "source": [
        "df4.show()"
      ],
      "metadata": {
        "colab": {
          "base_uri": "https://localhost:8080/"
        },
        "id": "DUgAcTOw2mDu",
        "outputId": "56ed3b4b-e7f2-4dff-b127-431b5c46ece6"
      },
      "id": "DUgAcTOw2mDu",
      "execution_count": 165,
      "outputs": [
        {
          "output_type": "stream",
          "name": "stdout",
          "text": [
            "+---+--------------------+--------------------+------------+\n",
            "| Id|          movie_name|        movies genre|Year_Release|\n",
            "+---+--------------------+--------------------+------------+\n",
            "|  1|    Toy Story (1995)|Animation|Childre...|        1995|\n",
            "|  2|      Jumanji (1995)|Adventure|Childre...|        1995|\n",
            "|  3|Grumpier Old Men ...|    Comedy|Romance,,|        1995|\n",
            "|  4|Waiting to Exhale...|      Comedy|Drama,,|        1995|\n",
            "|  5|Father of the Bri...|            Comedy,,|        1995|\n",
            "|  6|         Heat (1995)|Action|Crime|Thri...|        1995|\n",
            "|  7|      Sabrina (1995)|    Comedy|Romance,,|        1995|\n",
            "|  8| Tom and Huck (1995)|Adventure|Childre...|        1995|\n",
            "|  9| Sudden Death (1995)|            Action,,|        1995|\n",
            "| 10|    GoldenEye (1995)|Action|Adventure|...|        1995|\n",
            "| 11|American Presiden...|Comedy|Drama|Roma...|        1995|\n",
            "| 12|Dracula: Dead and...|     Comedy|Horror,,|        1995|\n",
            "| 13|        Balto (1995)|Animation|Childre...|        1995|\n",
            "| 14|        Nixon (1995)|             Drama,,|        1995|\n",
            "| 15|Cutthroat Island ...|Action|Adventure|...|        1995|\n",
            "| 16|       Casino (1995)|    Drama|Thriller,,|        1995|\n",
            "| 17|Sense and Sensibi...|     Drama|Romance,,|        1995|\n",
            "| 18|   Four Rooms (1995)|          Thriller,,|        1995|\n",
            "| 19|Ace Ventura: When...|            Comedy,,|        1995|\n",
            "| 20|  Money Train (1995)|            Action,,|        1995|\n",
            "+---+--------------------+--------------------+------------+\n",
            "only showing top 20 rows\n",
            "\n"
          ]
        }
      ]
    },
    {
      "cell_type": "code",
      "source": [
        "from pyspark.sql.functions import min, max, mean\n",
        "df4.select(max(\"Year_Release\")).show()\n",
        "df4.select(min(\"Year_Release\")).show()\n"
      ],
      "metadata": {
        "colab": {
          "base_uri": "https://localhost:8080/"
        },
        "id": "AGUllAod7Re9",
        "outputId": "24ad2e92-7af5-4dfe-e39c-442b855966e8"
      },
      "id": "AGUllAod7Re9",
      "execution_count": 166,
      "outputs": [
        {
          "output_type": "stream",
          "name": "stdout",
          "text": [
            "+-----------------+\n",
            "|max(Year_Release)|\n",
            "+-----------------+\n",
            "|               98|\n",
            "+-----------------+\n",
            "\n",
            "+-----------------+\n",
            "|min(Year_Release)|\n",
            "+-----------------+\n",
            "|                1|\n",
            "+-----------------+\n",
            "\n"
          ]
        }
      ]
    },
    {
      "cell_type": "code",
      "source": [
        "\n"
      ],
      "metadata": {
        "id": "Gcwn3Qcy7jth"
      },
      "id": "Gcwn3Qcy7jth",
      "execution_count": 165,
      "outputs": []
    },
    {
      "cell_type": "code",
      "source": [],
      "metadata": {
        "id": "Skc6VGbsWDGu"
      },
      "id": "Skc6VGbsWDGu",
      "execution_count": 165,
      "outputs": []
    },
    {
      "cell_type": "code",
      "source": [],
      "metadata": {
        "id": "xsGvVC0Fhn1S"
      },
      "id": "xsGvVC0Fhn1S",
      "execution_count": 165,
      "outputs": []
    },
    {
      "cell_type": "code",
      "source": [],
      "metadata": {
        "id": "MZw65tN-h0zS",
        "colab": {
          "base_uri": "https://localhost:8080/"
        },
        "outputId": "7185d4e4-4f2f-4289-b564-db7dd952af5c"
      },
      "id": "MZw65tN-h0zS",
      "execution_count": 136,
      "outputs": [
        {
          "output_type": "stream",
          "name": "stdout",
          "text": [
            "+-----------------+\n",
            "|max(Year_Release)|\n",
            "+-----------------+\n",
            "|               98|\n",
            "+-----------------+\n",
            "\n",
            "+-----------------+\n",
            "|min(Year_Release)|\n",
            "+-----------------+\n",
            "|                1|\n",
            "+-----------------+\n",
            "\n"
          ]
        }
      ]
    },
    {
      "cell_type": "code",
      "source": [
        "from google.colab import files\n",
        "users1 = files.upload()"
      ],
      "metadata": {
        "colab": {
          "base_uri": "https://localhost:8080/",
          "height": 74
        },
        "id": "fEKPEx5L8rTT",
        "outputId": "d1eec064-8df3-4497-be94-6f32a1ab32ec"
      },
      "id": "fEKPEx5L8rTT",
      "execution_count": 147,
      "outputs": [
        {
          "output_type": "display_data",
          "data": {
            "text/plain": [
              "<IPython.core.display.HTML object>"
            ],
            "text/html": [
              "\n",
              "     <input type=\"file\" id=\"files-0f5ce71b-86d0-4086-b938-afc94ff0993b\" name=\"files[]\" multiple disabled\n",
              "        style=\"border:none\" />\n",
              "     <output id=\"result-0f5ce71b-86d0-4086-b938-afc94ff0993b\">\n",
              "      Upload widget is only available when the cell has been executed in the\n",
              "      current browser session. Please rerun this cell to enable.\n",
              "      </output>\n",
              "      <script>// Copyright 2017 Google LLC\n",
              "//\n",
              "// Licensed under the Apache License, Version 2.0 (the \"License\");\n",
              "// you may not use this file except in compliance with the License.\n",
              "// You may obtain a copy of the License at\n",
              "//\n",
              "//      http://www.apache.org/licenses/LICENSE-2.0\n",
              "//\n",
              "// Unless required by applicable law or agreed to in writing, software\n",
              "// distributed under the License is distributed on an \"AS IS\" BASIS,\n",
              "// WITHOUT WARRANTIES OR CONDITIONS OF ANY KIND, either express or implied.\n",
              "// See the License for the specific language governing permissions and\n",
              "// limitations under the License.\n",
              "\n",
              "/**\n",
              " * @fileoverview Helpers for google.colab Python module.\n",
              " */\n",
              "(function(scope) {\n",
              "function span(text, styleAttributes = {}) {\n",
              "  const element = document.createElement('span');\n",
              "  element.textContent = text;\n",
              "  for (const key of Object.keys(styleAttributes)) {\n",
              "    element.style[key] = styleAttributes[key];\n",
              "  }\n",
              "  return element;\n",
              "}\n",
              "\n",
              "// Max number of bytes which will be uploaded at a time.\n",
              "const MAX_PAYLOAD_SIZE = 100 * 1024;\n",
              "\n",
              "function _uploadFiles(inputId, outputId) {\n",
              "  const steps = uploadFilesStep(inputId, outputId);\n",
              "  const outputElement = document.getElementById(outputId);\n",
              "  // Cache steps on the outputElement to make it available for the next call\n",
              "  // to uploadFilesContinue from Python.\n",
              "  outputElement.steps = steps;\n",
              "\n",
              "  return _uploadFilesContinue(outputId);\n",
              "}\n",
              "\n",
              "// This is roughly an async generator (not supported in the browser yet),\n",
              "// where there are multiple asynchronous steps and the Python side is going\n",
              "// to poll for completion of each step.\n",
              "// This uses a Promise to block the python side on completion of each step,\n",
              "// then passes the result of the previous step as the input to the next step.\n",
              "function _uploadFilesContinue(outputId) {\n",
              "  const outputElement = document.getElementById(outputId);\n",
              "  const steps = outputElement.steps;\n",
              "\n",
              "  const next = steps.next(outputElement.lastPromiseValue);\n",
              "  return Promise.resolve(next.value.promise).then((value) => {\n",
              "    // Cache the last promise value to make it available to the next\n",
              "    // step of the generator.\n",
              "    outputElement.lastPromiseValue = value;\n",
              "    return next.value.response;\n",
              "  });\n",
              "}\n",
              "\n",
              "/**\n",
              " * Generator function which is called between each async step of the upload\n",
              " * process.\n",
              " * @param {string} inputId Element ID of the input file picker element.\n",
              " * @param {string} outputId Element ID of the output display.\n",
              " * @return {!Iterable<!Object>} Iterable of next steps.\n",
              " */\n",
              "function* uploadFilesStep(inputId, outputId) {\n",
              "  const inputElement = document.getElementById(inputId);\n",
              "  inputElement.disabled = false;\n",
              "\n",
              "  const outputElement = document.getElementById(outputId);\n",
              "  outputElement.innerHTML = '';\n",
              "\n",
              "  const pickedPromise = new Promise((resolve) => {\n",
              "    inputElement.addEventListener('change', (e) => {\n",
              "      resolve(e.target.files);\n",
              "    });\n",
              "  });\n",
              "\n",
              "  const cancel = document.createElement('button');\n",
              "  inputElement.parentElement.appendChild(cancel);\n",
              "  cancel.textContent = 'Cancel upload';\n",
              "  const cancelPromise = new Promise((resolve) => {\n",
              "    cancel.onclick = () => {\n",
              "      resolve(null);\n",
              "    };\n",
              "  });\n",
              "\n",
              "  // Wait for the user to pick the files.\n",
              "  const files = yield {\n",
              "    promise: Promise.race([pickedPromise, cancelPromise]),\n",
              "    response: {\n",
              "      action: 'starting',\n",
              "    }\n",
              "  };\n",
              "\n",
              "  cancel.remove();\n",
              "\n",
              "  // Disable the input element since further picks are not allowed.\n",
              "  inputElement.disabled = true;\n",
              "\n",
              "  if (!files) {\n",
              "    return {\n",
              "      response: {\n",
              "        action: 'complete',\n",
              "      }\n",
              "    };\n",
              "  }\n",
              "\n",
              "  for (const file of files) {\n",
              "    const li = document.createElement('li');\n",
              "    li.append(span(file.name, {fontWeight: 'bold'}));\n",
              "    li.append(span(\n",
              "        `(${file.type || 'n/a'}) - ${file.size} bytes, ` +\n",
              "        `last modified: ${\n",
              "            file.lastModifiedDate ? file.lastModifiedDate.toLocaleDateString() :\n",
              "                                    'n/a'} - `));\n",
              "    const percent = span('0% done');\n",
              "    li.appendChild(percent);\n",
              "\n",
              "    outputElement.appendChild(li);\n",
              "\n",
              "    const fileDataPromise = new Promise((resolve) => {\n",
              "      const reader = new FileReader();\n",
              "      reader.onload = (e) => {\n",
              "        resolve(e.target.result);\n",
              "      };\n",
              "      reader.readAsArrayBuffer(file);\n",
              "    });\n",
              "    // Wait for the data to be ready.\n",
              "    let fileData = yield {\n",
              "      promise: fileDataPromise,\n",
              "      response: {\n",
              "        action: 'continue',\n",
              "      }\n",
              "    };\n",
              "\n",
              "    // Use a chunked sending to avoid message size limits. See b/62115660.\n",
              "    let position = 0;\n",
              "    do {\n",
              "      const length = Math.min(fileData.byteLength - position, MAX_PAYLOAD_SIZE);\n",
              "      const chunk = new Uint8Array(fileData, position, length);\n",
              "      position += length;\n",
              "\n",
              "      const base64 = btoa(String.fromCharCode.apply(null, chunk));\n",
              "      yield {\n",
              "        response: {\n",
              "          action: 'append',\n",
              "          file: file.name,\n",
              "          data: base64,\n",
              "        },\n",
              "      };\n",
              "\n",
              "      let percentDone = fileData.byteLength === 0 ?\n",
              "          100 :\n",
              "          Math.round((position / fileData.byteLength) * 100);\n",
              "      percent.textContent = `${percentDone}% done`;\n",
              "\n",
              "    } while (position < fileData.byteLength);\n",
              "  }\n",
              "\n",
              "  // All done.\n",
              "  yield {\n",
              "    response: {\n",
              "      action: 'complete',\n",
              "    }\n",
              "  };\n",
              "}\n",
              "\n",
              "scope.google = scope.google || {};\n",
              "scope.google.colab = scope.google.colab || {};\n",
              "scope.google.colab._files = {\n",
              "  _uploadFiles,\n",
              "  _uploadFilesContinue,\n",
              "};\n",
              "})(self);\n",
              "</script> "
            ]
          },
          "metadata": {}
        },
        {
          "output_type": "stream",
          "name": "stdout",
          "text": [
            "Saving users.csv to users (3).csv\n"
          ]
        }
      ]
    },
    {
      "cell_type": "code",
      "source": [
        "schema1 = StructType([\n",
        "    StructField(\"Id\",IntegerType(),True), \\\n",
        "    StructField(\"gender\",StringType(),True), \\\n",
        "    StructField(\"movieID\",IntegerType(),True),\\\n",
        "    StructField(\"rating\",IntegerType(),True), \\\n",
        "    StructField(\"numbers\",IntegerType(),True)\\\n",
        "                     ])"
      ],
      "metadata": {
        "id": "ZskScxx2HB9g"
      },
      "id": "ZskScxx2HB9g",
      "execution_count": 148,
      "outputs": []
    },
    {
      "cell_type": "code",
      "source": [
        "dfz=spark.read.csv(\"users.csv\", sep=\"::\",schema=schema1)\n",
        "dfz.show()"
      ],
      "metadata": {
        "id": "2SPS4KtxHb-O",
        "outputId": "1f0dcb7c-b2d9-412d-8b00-683dc8be3313",
        "colab": {
          "base_uri": "https://localhost:8080/"
        }
      },
      "id": "2SPS4KtxHb-O",
      "execution_count": 154,
      "outputs": [
        {
          "output_type": "stream",
          "name": "stdout",
          "text": [
            "+----+------+-------+------+-------+\n",
            "|  Id|gender|movieID|rating|numbers|\n",
            "+----+------+-------+------+-------+\n",
            "|2022|  null|   null|  null|   null|\n",
            "|null|  null|   null|  null|   null|\n",
            "|null|  null|   null|  null|   null|\n",
            "|   1|     F|      1|    10|  48067|\n",
            "|   2|     M|     56|    16|  70072|\n",
            "|   3|     M|     25|    15|  55117|\n",
            "|   4|     M|     45|     7|   2460|\n",
            "|   5|     M|     25|    20|  55455|\n",
            "|   6|     F|     50|     9|  55117|\n",
            "|   7|     M|     35|     1|   6810|\n",
            "|   8|     M|     25|    12|  11413|\n",
            "|   9|     M|     25|    17|  61614|\n",
            "|  10|     F|     35|     1|  95370|\n",
            "|  11|     F|     25|     1|   4093|\n",
            "|  12|     M|     25|    12|  32793|\n",
            "|  13|     M|     45|     1|  93304|\n",
            "|  14|     M|     35|     0|  60126|\n",
            "|  15|     M|     25|     7|  22903|\n",
            "|  16|     F|     35|     0|  20670|\n",
            "|  17|     M|     50|     1|  95350|\n",
            "+----+------+-------+------+-------+\n",
            "only showing top 20 rows\n",
            "\n"
          ]
        }
      ]
    },
    {
      "cell_type": "code",
      "source": [
        "dfz.select(max('gender'))"
      ],
      "metadata": {
        "id": "3K3thZJiHsdX",
        "outputId": "7c5f8883-6641-4107-9cbe-e46b41081b2f",
        "colab": {
          "base_uri": "https://localhost:8080/"
        }
      },
      "id": "3K3thZJiHsdX",
      "execution_count": 155,
      "outputs": [
        {
          "output_type": "execute_result",
          "data": {
            "text/plain": [
              "DataFrame[max(gender): string]"
            ]
          },
          "metadata": {},
          "execution_count": 155
        }
      ]
    },
    {
      "cell_type": "code",
      "source": [
        "dfz.drop(\"gender\")"
      ],
      "metadata": {
        "id": "IDa4M1QEIQIl",
        "outputId": "e09e4545-706c-40b0-f0f2-00838ec15a5a",
        "colab": {
          "base_uri": "https://localhost:8080/"
        }
      },
      "id": "IDa4M1QEIQIl",
      "execution_count": 158,
      "outputs": [
        {
          "output_type": "execute_result",
          "data": {
            "text/plain": [
              "DataFrame[Id: int, movieID: int, rating: int, numbers: int]"
            ]
          },
          "metadata": {},
          "execution_count": 158
        }
      ]
    },
    {
      "cell_type": "code",
      "source": [],
      "metadata": {
        "id": "9nH8Lyh_IfaF"
      },
      "id": "9nH8Lyh_IfaF",
      "execution_count": 159,
      "outputs": []
    },
    {
      "cell_type": "code",
      "source": [],
      "metadata": {
        "id": "2QdnenSeIveV"
      },
      "id": "2QdnenSeIveV",
      "execution_count": 142,
      "outputs": []
    }
  ],
  "metadata": {
    "kernelspec": {
      "display_name": "Python 3 (ipykernel)",
      "language": "python",
      "name": "python3"
    },
    "language_info": {
      "codemirror_mode": {
        "name": "ipython",
        "version": 3
      },
      "file_extension": ".py",
      "mimetype": "text/x-python",
      "name": "python",
      "nbconvert_exporter": "python",
      "pygments_lexer": "ipython3",
      "version": "3.9.12"
    },
    "colab": {
      "provenance": []
    }
  },
  "nbformat": 4,
  "nbformat_minor": 5
}