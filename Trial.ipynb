{
  "cells": [
    {
      "cell_type": "code",
      "execution_count": 1,
      "id": "69209122",
      "metadata": {
        "colab": {
          "base_uri": "https://localhost:8080/"
        },
        "id": "69209122",
        "outputId": "ca887a45-ea1c-4bf2-8564-a564837a9a24"
      },
      "outputs": [
        {
          "output_type": "stream",
          "name": "stdout",
          "text": [
            "Looking in indexes: https://pypi.org/simple, https://us-python.pkg.dev/colab-wheels/public/simple/\n",
            "Collecting pyspark\n",
            "  Downloading pyspark-3.3.1.tar.gz (281.4 MB)\n",
            "\u001b[K     |████████████████████████████████| 281.4 MB 41 kB/s \n",
            "\u001b[?25hCollecting py4j==0.10.9.5\n",
            "  Downloading py4j-0.10.9.5-py2.py3-none-any.whl (199 kB)\n",
            "\u001b[K     |████████████████████████████████| 199 kB 51.1 MB/s \n",
            "\u001b[?25hBuilding wheels for collected packages: pyspark\n",
            "  Building wheel for pyspark (setup.py) ... \u001b[?25l\u001b[?25hdone\n",
            "  Created wheel for pyspark: filename=pyspark-3.3.1-py2.py3-none-any.whl size=281845512 sha256=4dbde28190e3de3397f5bfa30117f978f3af7226d88ed1b2a59ab0dee69ffcf7\n",
            "  Stored in directory: /root/.cache/pip/wheels/42/59/f5/79a5bf931714dcd201b26025347785f087370a10a3329a899c\n",
            "Successfully built pyspark\n",
            "Installing collected packages: py4j, pyspark\n",
            "Successfully installed py4j-0.10.9.5 pyspark-3.3.1\n",
            "Looking in indexes: https://pypi.org/simple, https://us-python.pkg.dev/colab-wheels/public/simple/\n",
            "Requirement already satisfied: py4j in /usr/local/lib/python3.7/dist-packages (0.10.9.5)\n"
          ]
        }
      ],
      "source": [
        "!pip install pyspark\n",
        "!pip install py4j\n",
        "!apt-get install openjdk-8-jdk-headless -qq > /dev/null\n",
        "!wget -q https://www.apache.org/dyn/closer.lua/spark/spark-3.3.1/spark-3.3.1-bin-hadoop3.tgz\n",
        "!pip install -q findspark"
      ]
    },
    {
      "cell_type": "code",
      "execution_count": 3,
      "id": "e6eec3e3",
      "metadata": {
        "colab": {
          "base_uri": "https://localhost:8080/",
          "height": 74
        },
        "id": "e6eec3e3",
        "outputId": "bba91e2a-48a5-4290-94dc-9b3a67c1347f"
      },
      "outputs": [
        {
          "output_type": "display_data",
          "data": {
            "text/plain": [
              "<IPython.core.display.HTML object>"
            ],
            "text/html": [
              "\n",
              "     <input type=\"file\" id=\"files-f9150e90-d70e-488f-9e8c-61a9842054a3\" name=\"files[]\" multiple disabled\n",
              "        style=\"border:none\" />\n",
              "     <output id=\"result-f9150e90-d70e-488f-9e8c-61a9842054a3\">\n",
              "      Upload widget is only available when the cell has been executed in the\n",
              "      current browser session. Please rerun this cell to enable.\n",
              "      </output>\n",
              "      <script>// Copyright 2017 Google LLC\n",
              "//\n",
              "// Licensed under the Apache License, Version 2.0 (the \"License\");\n",
              "// you may not use this file except in compliance with the License.\n",
              "// You may obtain a copy of the License at\n",
              "//\n",
              "//      http://www.apache.org/licenses/LICENSE-2.0\n",
              "//\n",
              "// Unless required by applicable law or agreed to in writing, software\n",
              "// distributed under the License is distributed on an \"AS IS\" BASIS,\n",
              "// WITHOUT WARRANTIES OR CONDITIONS OF ANY KIND, either express or implied.\n",
              "// See the License for the specific language governing permissions and\n",
              "// limitations under the License.\n",
              "\n",
              "/**\n",
              " * @fileoverview Helpers for google.colab Python module.\n",
              " */\n",
              "(function(scope) {\n",
              "function span(text, styleAttributes = {}) {\n",
              "  const element = document.createElement('span');\n",
              "  element.textContent = text;\n",
              "  for (const key of Object.keys(styleAttributes)) {\n",
              "    element.style[key] = styleAttributes[key];\n",
              "  }\n",
              "  return element;\n",
              "}\n",
              "\n",
              "// Max number of bytes which will be uploaded at a time.\n",
              "const MAX_PAYLOAD_SIZE = 100 * 1024;\n",
              "\n",
              "function _uploadFiles(inputId, outputId) {\n",
              "  const steps = uploadFilesStep(inputId, outputId);\n",
              "  const outputElement = document.getElementById(outputId);\n",
              "  // Cache steps on the outputElement to make it available for the next call\n",
              "  // to uploadFilesContinue from Python.\n",
              "  outputElement.steps = steps;\n",
              "\n",
              "  return _uploadFilesContinue(outputId);\n",
              "}\n",
              "\n",
              "// This is roughly an async generator (not supported in the browser yet),\n",
              "// where there are multiple asynchronous steps and the Python side is going\n",
              "// to poll for completion of each step.\n",
              "// This uses a Promise to block the python side on completion of each step,\n",
              "// then passes the result of the previous step as the input to the next step.\n",
              "function _uploadFilesContinue(outputId) {\n",
              "  const outputElement = document.getElementById(outputId);\n",
              "  const steps = outputElement.steps;\n",
              "\n",
              "  const next = steps.next(outputElement.lastPromiseValue);\n",
              "  return Promise.resolve(next.value.promise).then((value) => {\n",
              "    // Cache the last promise value to make it available to the next\n",
              "    // step of the generator.\n",
              "    outputElement.lastPromiseValue = value;\n",
              "    return next.value.response;\n",
              "  });\n",
              "}\n",
              "\n",
              "/**\n",
              " * Generator function which is called between each async step of the upload\n",
              " * process.\n",
              " * @param {string} inputId Element ID of the input file picker element.\n",
              " * @param {string} outputId Element ID of the output display.\n",
              " * @return {!Iterable<!Object>} Iterable of next steps.\n",
              " */\n",
              "function* uploadFilesStep(inputId, outputId) {\n",
              "  const inputElement = document.getElementById(inputId);\n",
              "  inputElement.disabled = false;\n",
              "\n",
              "  const outputElement = document.getElementById(outputId);\n",
              "  outputElement.innerHTML = '';\n",
              "\n",
              "  const pickedPromise = new Promise((resolve) => {\n",
              "    inputElement.addEventListener('change', (e) => {\n",
              "      resolve(e.target.files);\n",
              "    });\n",
              "  });\n",
              "\n",
              "  const cancel = document.createElement('button');\n",
              "  inputElement.parentElement.appendChild(cancel);\n",
              "  cancel.textContent = 'Cancel upload';\n",
              "  const cancelPromise = new Promise((resolve) => {\n",
              "    cancel.onclick = () => {\n",
              "      resolve(null);\n",
              "    };\n",
              "  });\n",
              "\n",
              "  // Wait for the user to pick the files.\n",
              "  const files = yield {\n",
              "    promise: Promise.race([pickedPromise, cancelPromise]),\n",
              "    response: {\n",
              "      action: 'starting',\n",
              "    }\n",
              "  };\n",
              "\n",
              "  cancel.remove();\n",
              "\n",
              "  // Disable the input element since further picks are not allowed.\n",
              "  inputElement.disabled = true;\n",
              "\n",
              "  if (!files) {\n",
              "    return {\n",
              "      response: {\n",
              "        action: 'complete',\n",
              "      }\n",
              "    };\n",
              "  }\n",
              "\n",
              "  for (const file of files) {\n",
              "    const li = document.createElement('li');\n",
              "    li.append(span(file.name, {fontWeight: 'bold'}));\n",
              "    li.append(span(\n",
              "        `(${file.type || 'n/a'}) - ${file.size} bytes, ` +\n",
              "        `last modified: ${\n",
              "            file.lastModifiedDate ? file.lastModifiedDate.toLocaleDateString() :\n",
              "                                    'n/a'} - `));\n",
              "    const percent = span('0% done');\n",
              "    li.appendChild(percent);\n",
              "\n",
              "    outputElement.appendChild(li);\n",
              "\n",
              "    const fileDataPromise = new Promise((resolve) => {\n",
              "      const reader = new FileReader();\n",
              "      reader.onload = (e) => {\n",
              "        resolve(e.target.result);\n",
              "      };\n",
              "      reader.readAsArrayBuffer(file);\n",
              "    });\n",
              "    // Wait for the data to be ready.\n",
              "    let fileData = yield {\n",
              "      promise: fileDataPromise,\n",
              "      response: {\n",
              "        action: 'continue',\n",
              "      }\n",
              "    };\n",
              "\n",
              "    // Use a chunked sending to avoid message size limits. See b/62115660.\n",
              "    let position = 0;\n",
              "    do {\n",
              "      const length = Math.min(fileData.byteLength - position, MAX_PAYLOAD_SIZE);\n",
              "      const chunk = new Uint8Array(fileData, position, length);\n",
              "      position += length;\n",
              "\n",
              "      const base64 = btoa(String.fromCharCode.apply(null, chunk));\n",
              "      yield {\n",
              "        response: {\n",
              "          action: 'append',\n",
              "          file: file.name,\n",
              "          data: base64,\n",
              "        },\n",
              "      };\n",
              "\n",
              "      let percentDone = fileData.byteLength === 0 ?\n",
              "          100 :\n",
              "          Math.round((position / fileData.byteLength) * 100);\n",
              "      percent.textContent = `${percentDone}% done`;\n",
              "\n",
              "    } while (position < fileData.byteLength);\n",
              "  }\n",
              "\n",
              "  // All done.\n",
              "  yield {\n",
              "    response: {\n",
              "      action: 'complete',\n",
              "    }\n",
              "  };\n",
              "}\n",
              "\n",
              "scope.google = scope.google || {};\n",
              "scope.google.colab = scope.google.colab || {};\n",
              "scope.google.colab._files = {\n",
              "  _uploadFiles,\n",
              "  _uploadFilesContinue,\n",
              "};\n",
              "})(self);\n",
              "</script> "
            ]
          },
          "metadata": {}
        },
        {
          "output_type": "stream",
          "name": "stdout",
          "text": [
            "Saving movies.csv to movies.csv\n"
          ]
        }
      ],
      "source": [
        "from google.colab import files\n",
        "movies = files.upload()"
      ]
    },
    {
      "cell_type": "code",
      "execution_count": 4,
      "id": "32d2d5cf",
      "metadata": {
        "id": "32d2d5cf"
      },
      "outputs": [],
      "source": [
        "from pyspark.sql import SparkSession\n",
        "spark = SparkSession.builder.master(\"local\") \\\n",
        ".appName(\"trial\")  \\\n",
        ".config('spark.ui.port','4050') \\\n",
        ".getOrCreate()"
      ]
    },
    {
      "cell_type": "code",
      "execution_count": 5,
      "id": "ab754a60",
      "metadata": {
        "colab": {
          "base_uri": "https://localhost:8080/",
          "height": 222
        },
        "id": "ab754a60",
        "outputId": "079753a1-dc6e-46b7-e37d-5b68dbc0fb2a"
      },
      "outputs": [
        {
          "output_type": "execute_result",
          "data": {
            "text/plain": [
              "<pyspark.sql.session.SparkSession at 0x7fb25347f110>"
            ],
            "text/html": [
              "\n",
              "            <div>\n",
              "                <p><b>SparkSession - in-memory</b></p>\n",
              "                \n",
              "        <div>\n",
              "            <p><b>SparkContext</b></p>\n",
              "\n",
              "            <p><a href=\"http://8a1e5c3cc696:4050\">Spark UI</a></p>\n",
              "\n",
              "            <dl>\n",
              "              <dt>Version</dt>\n",
              "                <dd><code>v3.3.1</code></dd>\n",
              "              <dt>Master</dt>\n",
              "                <dd><code>local</code></dd>\n",
              "              <dt>AppName</dt>\n",
              "                <dd><code>trial</code></dd>\n",
              "            </dl>\n",
              "        </div>\n",
              "        \n",
              "            </div>\n",
              "        "
            ]
          },
          "metadata": {},
          "execution_count": 5
        }
      ],
      "source": [
        "spark"
      ]
    },
    {
      "cell_type": "code",
      "source": [
        "dataframe = spark.read.csv('movies.csv')\n",
        "dataframe.printSchema()"
      ],
      "metadata": {
        "colab": {
          "base_uri": "https://localhost:8080/"
        },
        "id": "rwKBPH-7xUxU",
        "outputId": "9838e2f3-df73-447d-d61a-d2fce5fc2f15"
      },
      "id": "rwKBPH-7xUxU",
      "execution_count": 31,
      "outputs": [
        {
          "output_type": "stream",
          "name": "stdout",
          "text": [
            "root\n",
            " |-- _c0: string (nullable = true)\n",
            " |-- _c1: string (nullable = true)\n",
            " |-- _c2: string (nullable = true)\n",
            "\n"
          ]
        }
      ]
    },
    {
      "cell_type": "code",
      "source": [
        "dataframe = spark.read.format(\"csv\").option(\"header\",\"false\").load(\"movies.csv\")\n",
        "dataframe.show()"
      ],
      "metadata": {
        "colab": {
          "base_uri": "https://localhost:8080/"
        },
        "id": "8JloUVdYyGyc",
        "outputId": "79d08107-2339-4c2e-b3e5-c70c4dfcea21"
      },
      "id": "8JloUVdYyGyc",
      "execution_count": 32,
      "outputs": [
        {
          "output_type": "stream",
          "name": "stdout",
          "text": [
            "+--------------------+--------------------+----+\n",
            "|                 _c0|                 _c1| _c2|\n",
            "+--------------------+--------------------+----+\n",
            "|1::Toy Story (199...|                null|null|\n",
            "|2::Jumanji (1995)...|                null|null|\n",
            "|3::Grumpier Old M...|                null|null|\n",
            "|4::Waiting to Exh...|                null|null|\n",
            "|5::Father of the ...|                null|null|\n",
            "|6::Heat (1995)::A...|                null|null|\n",
            "|7::Sabrina (1995)...|                null|null|\n",
            "|8::Tom and Huck (...|                null|null|\n",
            "|9::Sudden Death (...|                null|null|\n",
            "|10::GoldenEye (19...|                null|null|\n",
            "|11::American Pres...| The (1995)::Come...|null|\n",
            "|12::Dracula: Dead...|                null|null|\n",
            "|13::Balto (1995):...|                null|null|\n",
            "|14::Nixon (1995):...|                null|null|\n",
            "|15::Cutthroat Isl...|                null|null|\n",
            "|16::Casino (1995)...|                null|null|\n",
            "|17::Sense and Sen...|                null|null|\n",
            "|18::Four Rooms (1...|                null|null|\n",
            "|19::Ace Ventura: ...|                null|null|\n",
            "|20::Money Train (...|                null|null|\n",
            "+--------------------+--------------------+----+\n",
            "only showing top 20 rows\n",
            "\n"
          ]
        }
      ]
    },
    {
      "cell_type": "code",
      "source": [
        "from pyspark.context import SparkContext\n",
        "import pyspark.sql\n",
        "from pyspark.sql import SQLContext\n",
        "from pyspark.sql import SparkSession\n",
        "from pyspark import SparkFiles"
      ],
      "metadata": {
        "id": "zKzmlnHt1ntW"
      },
      "id": "zKzmlnHt1ntW",
      "execution_count": 33,
      "outputs": []
    },
    {
      "cell_type": "code",
      "source": [
        "from pyspark.sql import SparkSession\n",
        "from pyspark.sql.functions import split, col \n",
        "import pyspark.sql.functions as f"
      ],
      "metadata": {
        "id": "I2bVX36cPOL_"
      },
      "id": "I2bVX36cPOL_",
      "execution_count": 34,
      "outputs": []
    },
    {
      "cell_type": "code",
      "source": [
        "from pyspark.sql.types import StructType, StructField, StringType, IntegerType"
      ],
      "metadata": {
        "id": "RqyxyHENyTVv"
      },
      "id": "RqyxyHENyTVv",
      "execution_count": 35,
      "outputs": []
    },
    {
      "cell_type": "code",
      "source": [
        "schema = StructType([\n",
        "    StructField(\"Id\",IntegerType(),True), \\\n",
        "    StructField(\"movie_name\",StringType(),True), \\\n",
        "    StructField(\"movies genre\",StringType(),True),\\\n",
        "    StructField(\"year2\",IntegerType(),True),\n",
        "                     ])"
      ],
      "metadata": {
        "id": "JXoS12sy16xU"
      },
      "id": "JXoS12sy16xU",
      "execution_count": 76,
      "outputs": []
    },
    {
      "cell_type": "code",
      "source": [
        "df=spark.read.csv(\"movies.csv\", sep=\"::\",schema=schema)\n",
        "df.show(truncate = False)"
      ],
      "metadata": {
        "colab": {
          "base_uri": "https://localhost:8080/"
        },
        "id": "g0b-mEUS2lOD",
        "outputId": "0a9d7ad7-2969-44c9-d3f7-450701b84957"
      },
      "id": "g0b-mEUS2lOD",
      "execution_count": 77,
      "outputs": [
        {
          "output_type": "stream",
          "name": "stdout",
          "text": [
            "+---+-------------------------------------+------------------------------+-----+\n",
            "|Id |movie_name                           |movies genre                  |year2|\n",
            "+---+-------------------------------------+------------------------------+-----+\n",
            "|1  |Toy Story (1995)                     |Animation|Children's|Comedy,, |null |\n",
            "|2  |Jumanji (1995)                       |Adventure|Children's|Fantasy,,|null |\n",
            "|3  |Grumpier Old Men (1995)              |Comedy|Romance,,              |null |\n",
            "|4  |Waiting to Exhale (1995)             |Comedy|Drama,,                |null |\n",
            "|5  |Father of the Bride Part II (1995)   |Comedy,,                      |null |\n",
            "|6  |Heat (1995)                          |Action|Crime|Thriller,,       |null |\n",
            "|7  |Sabrina (1995)                       |Comedy|Romance,,              |null |\n",
            "|8  |Tom and Huck (1995)                  |Adventure|Children's,,        |null |\n",
            "|9  |Sudden Death (1995)                  |Action,,                      |null |\n",
            "|10 |GoldenEye (1995)                     |Action|Adventure|Thriller,,   |null |\n",
            "|11 |American President, The (1995)       |Comedy|Drama|Romance,         |null |\n",
            "|12 |Dracula: Dead and Loving It (1995)   |Comedy|Horror,,               |null |\n",
            "|13 |Balto (1995)                         |Animation|Children's,,        |null |\n",
            "|14 |Nixon (1995)                         |Drama,,                       |null |\n",
            "|15 |Cutthroat Island (1995)              |Action|Adventure|Romance,,    |null |\n",
            "|16 |Casino (1995)                        |Drama|Thriller,,              |null |\n",
            "|17 |Sense and Sensibility (1995)         |Drama|Romance,,               |null |\n",
            "|18 |Four Rooms (1995)                    |Thriller,,                    |null |\n",
            "|19 |Ace Ventura: When Nature Calls (1995)|Comedy,,                      |null |\n",
            "|20 |Money Train (1995)                   |Action,,                      |null |\n",
            "+---+-------------------------------------+------------------------------+-----+\n",
            "only showing top 20 rows\n",
            "\n"
          ]
        }
      ]
    },
    {
      "cell_type": "code",
      "source": [
        "df3 = df.withColumn('year2', split(df['movie_name'], \" \").getItem(2)).show()\n"
      ],
      "metadata": {
        "id": "fqtnysdUPo01",
        "colab": {
          "base_uri": "https://localhost:8080/"
        },
        "outputId": "c251a670-cdfe-4bac-f2dd-62fe739154c2"
      },
      "id": "fqtnysdUPo01",
      "execution_count": 109,
      "outputs": [
        {
          "output_type": "stream",
          "name": "stdout",
          "text": [
            "+---+--------------------+--------------------+-----------+\n",
            "| Id|          movie_name|        movies genre|      year2|\n",
            "+---+--------------------+--------------------+-----------+\n",
            "|  1|    Toy Story (1995)|Animation|Childre...|     (1995)|\n",
            "|  2|      Jumanji (1995)|Adventure|Childre...|       null|\n",
            "|  3|Grumpier Old Men ...|    Comedy|Romance,,|        Men|\n",
            "|  4|Waiting to Exhale...|      Comedy|Drama,,|     Exhale|\n",
            "|  5|Father of the Bri...|            Comedy,,|        the|\n",
            "|  6|         Heat (1995)|Action|Crime|Thri...|       null|\n",
            "|  7|      Sabrina (1995)|    Comedy|Romance,,|       null|\n",
            "|  8| Tom and Huck (1995)|Adventure|Childre...|       Huck|\n",
            "|  9| Sudden Death (1995)|            Action,,|     (1995)|\n",
            "| 10|    GoldenEye (1995)|Action|Adventure|...|       null|\n",
            "| 11|American Presiden...|Comedy|Drama|Roma...|        The|\n",
            "| 12|Dracula: Dead and...|     Comedy|Horror,,|        and|\n",
            "| 13|        Balto (1995)|Animation|Childre...|       null|\n",
            "| 14|        Nixon (1995)|             Drama,,|       null|\n",
            "| 15|Cutthroat Island ...|Action|Adventure|...|     (1995)|\n",
            "| 16|       Casino (1995)|    Drama|Thriller,,|       null|\n",
            "| 17|Sense and Sensibi...|     Drama|Romance,,|Sensibility|\n",
            "| 18|   Four Rooms (1995)|          Thriller,,|     (1995)|\n",
            "| 19|Ace Ventura: When...|            Comedy,,|       When|\n",
            "| 20|  Money Train (1995)|            Action,,|     (1995)|\n",
            "+---+--------------------+--------------------+-----------+\n",
            "only showing top 20 rows\n",
            "\n"
          ]
        }
      ]
    },
    {
      "cell_type": "code",
      "source": [
        "\n",
        "df2 = df.select(split(col(\"movie_name\"),\" \").getItem(2).alias(\"year\")).show()"
      ],
      "metadata": {
        "id": "pLFZrFU_UmG9",
        "colab": {
          "base_uri": "https://localhost:8080/"
        },
        "outputId": "e6e00df0-5fc4-49ea-ebf0-bc9adacb47ef"
      },
      "id": "pLFZrFU_UmG9",
      "execution_count": 81,
      "outputs": [
        {
          "output_type": "stream",
          "name": "stdout",
          "text": [
            "+-----------+\n",
            "|       year|\n",
            "+-----------+\n",
            "|     (1995)|\n",
            "|       null|\n",
            "|        Men|\n",
            "|     Exhale|\n",
            "|        the|\n",
            "|       null|\n",
            "|       null|\n",
            "|       Huck|\n",
            "|     (1995)|\n",
            "|       null|\n",
            "|        The|\n",
            "|        and|\n",
            "|       null|\n",
            "|       null|\n",
            "|     (1995)|\n",
            "|       null|\n",
            "|Sensibility|\n",
            "|     (1995)|\n",
            "|       When|\n",
            "|     (1995)|\n",
            "+-----------+\n",
            "only showing top 20 rows\n",
            "\n"
          ]
        }
      ]
    },
    {
      "cell_type": "code",
      "source": [
        "df3 = df.withColumn('year2', split(df['movie_name'], \" \").getItem(1)).show(1)\n",
        "\n",
        "\"\"\"\n",
        ".withColumn('year3', split(df['movie_name'], \" \").getItem(1)) \\\n",
        ".withColumn('year4', split(df['movie_name'], \" \").getItem(2)) \\\n",
        ".withColumn('year5', split(df['movie_name'], \" \").getItem(3)) \\\n",
        ".withColumn('year6', split(df['movie_name'], \" \").getItem(4)) \\\n",
        ".withColumn('year7', split(df['movie_name'], \" \").getItem(5)).show()\n",
        "\"\"\"\n",
        "\n"
      ],
      "metadata": {
        "colab": {
          "base_uri": "https://localhost:8080/",
          "height": 184
        },
        "id": "DUgAcTOw2mDu",
        "outputId": "80d3ff0c-92c2-40e8-cfe9-41fcd605c58a"
      },
      "id": "DUgAcTOw2mDu",
      "execution_count": 115,
      "outputs": [
        {
          "output_type": "stream",
          "name": "stdout",
          "text": [
            "+---+----------------+--------------------+-----+\n",
            "| Id|      movie_name|        movies genre|year2|\n",
            "+---+----------------+--------------------+-----+\n",
            "|  1|Toy Story (1995)|Animation|Childre...|Story|\n",
            "+---+----------------+--------------------+-----+\n",
            "only showing top 1 row\n",
            "\n"
          ]
        },
        {
          "output_type": "execute_result",
          "data": {
            "text/plain": [
              "'\\n.withColumn(\\'year3\\', split(df[\\'movie_name\\'], \" \").getItem(1)) .withColumn(\\'year4\\', split(df[\\'movie_name\\'], \" \").getItem(2)) .withColumn(\\'year5\\', split(df[\\'movie_name\\'], \" \").getItem(3)) .withColumn(\\'year6\\', split(df[\\'movie_name\\'], \" \").getItem(4)) .withColumn(\\'year7\\', split(df[\\'movie_name\\'], \" \").getItem(5)).show()\\n'"
            ],
            "application/vnd.google.colaboratory.intrinsic+json": {
              "type": "string"
            }
          },
          "metadata": {},
          "execution_count": 115
        }
      ]
    },
    {
      "cell_type": "code",
      "source": [
        "df4 = df.withColumn(\"Year_Release\", f.regexp_extract(df['movie_name'], '[1-9][0-9]*',0))\n",
        "df4.show(5)"
      ],
      "metadata": {
        "colab": {
          "base_uri": "https://localhost:8080/"
        },
        "id": "AGUllAod7Re9",
        "outputId": "72f41e92-5d27-454f-fb1b-173257435d76"
      },
      "id": "AGUllAod7Re9",
      "execution_count": 127,
      "outputs": [
        {
          "output_type": "stream",
          "name": "stdout",
          "text": [
            "+---+--------------------+--------------------+-----+------------+\n",
            "| Id|          movie_name|        movies genre|year2|Year_Release|\n",
            "+---+--------------------+--------------------+-----+------------+\n",
            "|  1|    Toy Story (1995)|Animation|Childre...| null|        1995|\n",
            "|  2|      Jumanji (1995)|Adventure|Childre...| null|        1995|\n",
            "|  3|Grumpier Old Men ...|    Comedy|Romance,,| null|        1995|\n",
            "|  4|Waiting to Exhale...|      Comedy|Drama,,| null|        1995|\n",
            "|  5|Father of the Bri...|            Comedy,,| null|        1995|\n",
            "+---+--------------------+--------------------+-----+------------+\n",
            "only showing top 5 rows\n",
            "\n"
          ]
        }
      ]
    },
    {
      "cell_type": "code",
      "source": [
        "df4=df4.drop('year2')\n"
      ],
      "metadata": {
        "id": "Gcwn3Qcy7jth"
      },
      "id": "Gcwn3Qcy7jth",
      "execution_count": 128,
      "outputs": []
    },
    {
      "cell_type": "code",
      "source": [
        "df4.show()"
      ],
      "metadata": {
        "colab": {
          "base_uri": "https://localhost:8080/"
        },
        "id": "Skc6VGbsWDGu",
        "outputId": "dec6596d-234b-4990-a6a6-8cbc9a3118c6"
      },
      "id": "Skc6VGbsWDGu",
      "execution_count": 129,
      "outputs": [
        {
          "output_type": "stream",
          "name": "stdout",
          "text": [
            "+---+--------------------+--------------------+------------+\n",
            "| Id|          movie_name|        movies genre|Year_Release|\n",
            "+---+--------------------+--------------------+------------+\n",
            "|  1|    Toy Story (1995)|Animation|Childre...|        1995|\n",
            "|  2|      Jumanji (1995)|Adventure|Childre...|        1995|\n",
            "|  3|Grumpier Old Men ...|    Comedy|Romance,,|        1995|\n",
            "|  4|Waiting to Exhale...|      Comedy|Drama,,|        1995|\n",
            "|  5|Father of the Bri...|            Comedy,,|        1995|\n",
            "|  6|         Heat (1995)|Action|Crime|Thri...|        1995|\n",
            "|  7|      Sabrina (1995)|    Comedy|Romance,,|        1995|\n",
            "|  8| Tom and Huck (1995)|Adventure|Childre...|        1995|\n",
            "|  9| Sudden Death (1995)|            Action,,|        1995|\n",
            "| 10|    GoldenEye (1995)|Action|Adventure|...|        1995|\n",
            "| 11|American Presiden...|Comedy|Drama|Roma...|        1995|\n",
            "| 12|Dracula: Dead and...|     Comedy|Horror,,|        1995|\n",
            "| 13|        Balto (1995)|Animation|Childre...|        1995|\n",
            "| 14|        Nixon (1995)|             Drama,,|        1995|\n",
            "| 15|Cutthroat Island ...|Action|Adventure|...|        1995|\n",
            "| 16|       Casino (1995)|    Drama|Thriller,,|        1995|\n",
            "| 17|Sense and Sensibi...|     Drama|Romance,,|        1995|\n",
            "| 18|   Four Rooms (1995)|          Thriller,,|        1995|\n",
            "| 19|Ace Ventura: When...|            Comedy,,|        1995|\n",
            "| 20|  Money Train (1995)|            Action,,|        1995|\n",
            "+---+--------------------+--------------------+------------+\n",
            "only showing top 20 rows\n",
            "\n"
          ]
        }
      ]
    },
    {
      "cell_type": "code",
      "source": [
        "df4 = df.withColumn(\"movie name\", f.regexp_extract(df['movie_name'], '[A-Z][a-z]*',0)).show()"
      ],
      "metadata": {
        "id": "xsGvVC0Fhn1S",
        "outputId": "974b4447-27ab-46fd-bece-914a4325bb4b",
        "colab": {
          "base_uri": "https://localhost:8080/"
        }
      },
      "id": "xsGvVC0Fhn1S",
      "execution_count": 130,
      "outputs": [
        {
          "output_type": "stream",
          "name": "stdout",
          "text": [
            "+---+--------------------+--------------------+-----+----------+\n",
            "| Id|          movie_name|        movies genre|year2|movie name|\n",
            "+---+--------------------+--------------------+-----+----------+\n",
            "|  1|    Toy Story (1995)|Animation|Childre...| null|       Toy|\n",
            "|  2|      Jumanji (1995)|Adventure|Childre...| null|   Jumanji|\n",
            "|  3|Grumpier Old Men ...|    Comedy|Romance,,| null|  Grumpier|\n",
            "|  4|Waiting to Exhale...|      Comedy|Drama,,| null|   Waiting|\n",
            "|  5|Father of the Bri...|            Comedy,,| null|    Father|\n",
            "|  6|         Heat (1995)|Action|Crime|Thri...| null|      Heat|\n",
            "|  7|      Sabrina (1995)|    Comedy|Romance,,| null|   Sabrina|\n",
            "|  8| Tom and Huck (1995)|Adventure|Childre...| null|       Tom|\n",
            "|  9| Sudden Death (1995)|            Action,,| null|    Sudden|\n",
            "| 10|    GoldenEye (1995)|Action|Adventure|...| null|    Golden|\n",
            "| 11|American Presiden...|Comedy|Drama|Roma...| null|  American|\n",
            "| 12|Dracula: Dead and...|     Comedy|Horror,,| null|   Dracula|\n",
            "| 13|        Balto (1995)|Animation|Childre...| null|     Balto|\n",
            "| 14|        Nixon (1995)|             Drama,,| null|     Nixon|\n",
            "| 15|Cutthroat Island ...|Action|Adventure|...| null| Cutthroat|\n",
            "| 16|       Casino (1995)|    Drama|Thriller,,| null|    Casino|\n",
            "| 17|Sense and Sensibi...|     Drama|Romance,,| null|     Sense|\n",
            "| 18|   Four Rooms (1995)|          Thriller,,| null|      Four|\n",
            "| 19|Ace Ventura: When...|            Comedy,,| null|       Ace|\n",
            "| 20|  Money Train (1995)|            Action,,| null|     Money|\n",
            "+---+--------------------+--------------------+-----+----------+\n",
            "only showing top 20 rows\n",
            "\n"
          ]
        }
      ]
    },
    {
      "cell_type": "code",
      "source": [],
      "metadata": {
        "id": "MZw65tN-h0zS"
      },
      "id": "MZw65tN-h0zS",
      "execution_count": null,
      "outputs": []
    }
  ],
  "metadata": {
    "kernelspec": {
      "display_name": "Python 3 (ipykernel)",
      "language": "python",
      "name": "python3"
    },
    "language_info": {
      "codemirror_mode": {
        "name": "ipython",
        "version": 3
      },
      "file_extension": ".py",
      "mimetype": "text/x-python",
      "name": "python",
      "nbconvert_exporter": "python",
      "pygments_lexer": "ipython3",
      "version": "3.9.12"
    },
    "colab": {
      "provenance": []
    }
  },
  "nbformat": 4,
  "nbformat_minor": 5
}