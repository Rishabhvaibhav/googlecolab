{
  "cells": [
    {
      "cell_type": "code",
      "execution_count": 1,
      "id": "e185f45e",
      "metadata": {
        "id": "e185f45e",
        "outputId": "3765d684-b43a-4ea6-b851-5a5fe919e946",
        "colab": {
          "base_uri": "https://localhost:8080/"
        }
      },
      "outputs": [
        {
          "output_type": "stream",
          "name": "stdout",
          "text": [
            "Looking in indexes: https://pypi.org/simple, https://us-python.pkg.dev/colab-wheels/public/simple/\n",
            "Collecting pyspark\n",
            "  Downloading pyspark-3.3.1.tar.gz (281.4 MB)\n",
            "\u001b[K     |████████████████████████████████| 281.4 MB 42 kB/s \n",
            "\u001b[?25hCollecting py4j==0.10.9.5\n",
            "  Downloading py4j-0.10.9.5-py2.py3-none-any.whl (199 kB)\n",
            "\u001b[K     |████████████████████████████████| 199 kB 60.1 MB/s \n",
            "\u001b[?25hBuilding wheels for collected packages: pyspark\n",
            "  Building wheel for pyspark (setup.py) ... \u001b[?25l\u001b[?25hdone\n",
            "  Created wheel for pyspark: filename=pyspark-3.3.1-py2.py3-none-any.whl size=281845512 sha256=69a2d0a3a8345ebb01f555a8de7116d3917d718fcc494ce266105e2ae35fe903\n",
            "  Stored in directory: /root/.cache/pip/wheels/43/dc/11/ec201cd671da62fa9c5cc77078235e40722170ceba231d7598\n",
            "Successfully built pyspark\n",
            "Installing collected packages: py4j, pyspark\n",
            "Successfully installed py4j-0.10.9.5 pyspark-3.3.1\n",
            "Looking in indexes: https://pypi.org/simple, https://us-python.pkg.dev/colab-wheels/public/simple/\n",
            "Requirement already satisfied: py4j in /usr/local/lib/python3.8/dist-packages (0.10.9.5)\n"
          ]
        }
      ],
      "source": [
        "!pip install pyspark\n",
        "!pip install py4j\n",
        "!apt-get install openjdk-8-jdk-headless -qq > /dev/null\n",
        "!wget -q https://www.apache.org/dyn/closer.lua/spark/spark-3.3.1/spark-3.3.1-bin-hadoop3.tgz\n",
        "!pip install -q findspark\n",
        "from pyspark.context import SparkContext\n",
        "import pyspark.sql\n",
        "from pyspark.sql import SQLContext\n",
        "from pyspark.sql import SparkSession\n",
        "from pyspark import SparkFiles\n",
        "from pyspark.sql import SparkSession\n",
        "from pyspark.sql.functions import split, col \n",
        "import pyspark.sql.functions as f\n",
        "from pyspark.sql.types import StructType, StructField, StringType, IntegerType\n",
        "from pyspark.sql.functions import min, max, mean"
      ]
    },
    {
      "cell_type": "code",
      "source": [
        "from google.colab import files\n",
        "nba = files.upload()"
      ],
      "metadata": {
        "id": "oaX9orjvsnSO",
        "outputId": "2ac903e3-af3c-4a2b-ce8f-1193f1de9be2",
        "colab": {
          "base_uri": "https://localhost:8080/",
          "height": 74
        }
      },
      "id": "oaX9orjvsnSO",
      "execution_count": 2,
      "outputs": [
        {
          "output_type": "display_data",
          "data": {
            "text/plain": [
              "<IPython.core.display.HTML object>"
            ],
            "text/html": [
              "\n",
              "     <input type=\"file\" id=\"files-642960eb-1819-4409-b1bd-bcfffcccd983\" name=\"files[]\" multiple disabled\n",
              "        style=\"border:none\" />\n",
              "     <output id=\"result-642960eb-1819-4409-b1bd-bcfffcccd983\">\n",
              "      Upload widget is only available when the cell has been executed in the\n",
              "      current browser session. Please rerun this cell to enable.\n",
              "      </output>\n",
              "      <script>// Copyright 2017 Google LLC\n",
              "//\n",
              "// Licensed under the Apache License, Version 2.0 (the \"License\");\n",
              "// you may not use this file except in compliance with the License.\n",
              "// You may obtain a copy of the License at\n",
              "//\n",
              "//      http://www.apache.org/licenses/LICENSE-2.0\n",
              "//\n",
              "// Unless required by applicable law or agreed to in writing, software\n",
              "// distributed under the License is distributed on an \"AS IS\" BASIS,\n",
              "// WITHOUT WARRANTIES OR CONDITIONS OF ANY KIND, either express or implied.\n",
              "// See the License for the specific language governing permissions and\n",
              "// limitations under the License.\n",
              "\n",
              "/**\n",
              " * @fileoverview Helpers for google.colab Python module.\n",
              " */\n",
              "(function(scope) {\n",
              "function span(text, styleAttributes = {}) {\n",
              "  const element = document.createElement('span');\n",
              "  element.textContent = text;\n",
              "  for (const key of Object.keys(styleAttributes)) {\n",
              "    element.style[key] = styleAttributes[key];\n",
              "  }\n",
              "  return element;\n",
              "}\n",
              "\n",
              "// Max number of bytes which will be uploaded at a time.\n",
              "const MAX_PAYLOAD_SIZE = 100 * 1024;\n",
              "\n",
              "function _uploadFiles(inputId, outputId) {\n",
              "  const steps = uploadFilesStep(inputId, outputId);\n",
              "  const outputElement = document.getElementById(outputId);\n",
              "  // Cache steps on the outputElement to make it available for the next call\n",
              "  // to uploadFilesContinue from Python.\n",
              "  outputElement.steps = steps;\n",
              "\n",
              "  return _uploadFilesContinue(outputId);\n",
              "}\n",
              "\n",
              "// This is roughly an async generator (not supported in the browser yet),\n",
              "// where there are multiple asynchronous steps and the Python side is going\n",
              "// to poll for completion of each step.\n",
              "// This uses a Promise to block the python side on completion of each step,\n",
              "// then passes the result of the previous step as the input to the next step.\n",
              "function _uploadFilesContinue(outputId) {\n",
              "  const outputElement = document.getElementById(outputId);\n",
              "  const steps = outputElement.steps;\n",
              "\n",
              "  const next = steps.next(outputElement.lastPromiseValue);\n",
              "  return Promise.resolve(next.value.promise).then((value) => {\n",
              "    // Cache the last promise value to make it available to the next\n",
              "    // step of the generator.\n",
              "    outputElement.lastPromiseValue = value;\n",
              "    return next.value.response;\n",
              "  });\n",
              "}\n",
              "\n",
              "/**\n",
              " * Generator function which is called between each async step of the upload\n",
              " * process.\n",
              " * @param {string} inputId Element ID of the input file picker element.\n",
              " * @param {string} outputId Element ID of the output display.\n",
              " * @return {!Iterable<!Object>} Iterable of next steps.\n",
              " */\n",
              "function* uploadFilesStep(inputId, outputId) {\n",
              "  const inputElement = document.getElementById(inputId);\n",
              "  inputElement.disabled = false;\n",
              "\n",
              "  const outputElement = document.getElementById(outputId);\n",
              "  outputElement.innerHTML = '';\n",
              "\n",
              "  const pickedPromise = new Promise((resolve) => {\n",
              "    inputElement.addEventListener('change', (e) => {\n",
              "      resolve(e.target.files);\n",
              "    });\n",
              "  });\n",
              "\n",
              "  const cancel = document.createElement('button');\n",
              "  inputElement.parentElement.appendChild(cancel);\n",
              "  cancel.textContent = 'Cancel upload';\n",
              "  const cancelPromise = new Promise((resolve) => {\n",
              "    cancel.onclick = () => {\n",
              "      resolve(null);\n",
              "    };\n",
              "  });\n",
              "\n",
              "  // Wait for the user to pick the files.\n",
              "  const files = yield {\n",
              "    promise: Promise.race([pickedPromise, cancelPromise]),\n",
              "    response: {\n",
              "      action: 'starting',\n",
              "    }\n",
              "  };\n",
              "\n",
              "  cancel.remove();\n",
              "\n",
              "  // Disable the input element since further picks are not allowed.\n",
              "  inputElement.disabled = true;\n",
              "\n",
              "  if (!files) {\n",
              "    return {\n",
              "      response: {\n",
              "        action: 'complete',\n",
              "      }\n",
              "    };\n",
              "  }\n",
              "\n",
              "  for (const file of files) {\n",
              "    const li = document.createElement('li');\n",
              "    li.append(span(file.name, {fontWeight: 'bold'}));\n",
              "    li.append(span(\n",
              "        `(${file.type || 'n/a'}) - ${file.size} bytes, ` +\n",
              "        `last modified: ${\n",
              "            file.lastModifiedDate ? file.lastModifiedDate.toLocaleDateString() :\n",
              "                                    'n/a'} - `));\n",
              "    const percent = span('0% done');\n",
              "    li.appendChild(percent);\n",
              "\n",
              "    outputElement.appendChild(li);\n",
              "\n",
              "    const fileDataPromise = new Promise((resolve) => {\n",
              "      const reader = new FileReader();\n",
              "      reader.onload = (e) => {\n",
              "        resolve(e.target.result);\n",
              "      };\n",
              "      reader.readAsArrayBuffer(file);\n",
              "    });\n",
              "    // Wait for the data to be ready.\n",
              "    let fileData = yield {\n",
              "      promise: fileDataPromise,\n",
              "      response: {\n",
              "        action: 'continue',\n",
              "      }\n",
              "    };\n",
              "\n",
              "    // Use a chunked sending to avoid message size limits. See b/62115660.\n",
              "    let position = 0;\n",
              "    do {\n",
              "      const length = Math.min(fileData.byteLength - position, MAX_PAYLOAD_SIZE);\n",
              "      const chunk = new Uint8Array(fileData, position, length);\n",
              "      position += length;\n",
              "\n",
              "      const base64 = btoa(String.fromCharCode.apply(null, chunk));\n",
              "      yield {\n",
              "        response: {\n",
              "          action: 'append',\n",
              "          file: file.name,\n",
              "          data: base64,\n",
              "        },\n",
              "      };\n",
              "\n",
              "      let percentDone = fileData.byteLength === 0 ?\n",
              "          100 :\n",
              "          Math.round((position / fileData.byteLength) * 100);\n",
              "      percent.textContent = `${percentDone}% done`;\n",
              "\n",
              "    } while (position < fileData.byteLength);\n",
              "  }\n",
              "\n",
              "  // All done.\n",
              "  yield {\n",
              "    response: {\n",
              "      action: 'complete',\n",
              "    }\n",
              "  };\n",
              "}\n",
              "\n",
              "scope.google = scope.google || {};\n",
              "scope.google.colab = scope.google.colab || {};\n",
              "scope.google.colab._files = {\n",
              "  _uploadFiles,\n",
              "  _uploadFilesContinue,\n",
              "};\n",
              "})(self);\n",
              "</script> "
            ]
          },
          "metadata": {}
        },
        {
          "output_type": "stream",
          "name": "stdout",
          "text": [
            "Saving nba.csv to nba.csv\n"
          ]
        }
      ]
    },
    {
      "cell_type": "code",
      "source": [
        "from pyspark.sql import SparkSession\n",
        "spark = SparkSession.builder.master(\"local[1]\") \\\n",
        ".appName(\"ALTEN\")  \\\n",
        ".config('spark.ui.port','4050') \\\n",
        ".getOrCreate()"
      ],
      "metadata": {
        "id": "Kdmi0SJVstaY"
      },
      "id": "Kdmi0SJVstaY",
      "execution_count": 5,
      "outputs": []
    },
    {
      "cell_type": "code",
      "source": [
        "spark"
      ],
      "metadata": {
        "id": "D_jYk-H_tUqH",
        "outputId": "12a4ddee-3d07-4372-f091-7915b63de662",
        "colab": {
          "base_uri": "https://localhost:8080/",
          "height": 222
        }
      },
      "id": "D_jYk-H_tUqH",
      "execution_count": 6,
      "outputs": [
        {
          "output_type": "execute_result",
          "data": {
            "text/plain": [
              "<pyspark.sql.session.SparkSession at 0x7f86535d0790>"
            ],
            "text/html": [
              "\n",
              "            <div>\n",
              "                <p><b>SparkSession - in-memory</b></p>\n",
              "                \n",
              "        <div>\n",
              "            <p><b>SparkContext</b></p>\n",
              "\n",
              "            <p><a href=\"http://debccf4f4feb:4050\">Spark UI</a></p>\n",
              "\n",
              "            <dl>\n",
              "              <dt>Version</dt>\n",
              "                <dd><code>v3.3.1</code></dd>\n",
              "              <dt>Master</dt>\n",
              "                <dd><code>local[1]</code></dd>\n",
              "              <dt>AppName</dt>\n",
              "                <dd><code>ALTEN</code></dd>\n",
              "            </dl>\n",
              "        </div>\n",
              "        \n",
              "            </div>\n",
              "        "
            ]
          },
          "metadata": {},
          "execution_count": 6
        }
      ]
    },
    {
      "cell_type": "code",
      "source": [
        "df = spark.read.csv('nba.csv')"
      ],
      "metadata": {
        "id": "K3LCUyZ0tqSw"
      },
      "id": "K3LCUyZ0tqSw",
      "execution_count": 11,
      "outputs": []
    },
    {
      "cell_type": "code",
      "source": [
        "df.show()\n"
      ],
      "metadata": {
        "id": "NRMC_mE9tzNi",
        "outputId": "9d1f711b-955c-47d5-9fe9-1bc2af0a03db",
        "colab": {
          "base_uri": "https://localhost:8080/"
        }
      },
      "id": "NRMC_mE9tzNi",
      "execution_count": 12,
      "outputs": [
        {
          "output_type": "stream",
          "name": "stdout",
          "text": [
            "+--------------------+--------------+------+--------+----+------+------+-----------------+----------+\n",
            "|                 _c0|           _c1|   _c2|     _c3| _c4|   _c5|   _c6|              _c7|       _c8|\n",
            "+--------------------+--------------+------+--------+----+------+------+-----------------+----------+\n",
            "|                Name|          Team|Number|Position| Age|Height|Weight|          College|    Salary|\n",
            "|       Avery Bradley|Boston Celtics|   0.0|      PG|25.0|   6-2| 180.0|            Texas| 7730337.0|\n",
            "|         Jae Crowder|Boston Celtics|  99.0|      SF|25.0|   6-6| 235.0|        Marquette| 6796117.0|\n",
            "|        John Holland|Boston Celtics|  30.0|      SG|27.0|   6-5| 205.0|Boston University|      null|\n",
            "|         R.J. Hunter|Boston Celtics|  28.0|      SG|22.0|   6-5| 185.0|    Georgia State| 1148640.0|\n",
            "|       Jonas Jerebko|Boston Celtics|   8.0|      PF|29.0|  6-10| 231.0|             null| 5000000.0|\n",
            "|        Amir Johnson|Boston Celtics|  90.0|      PF|29.0|   6-9| 240.0|             null|12000000.0|\n",
            "|       Jordan Mickey|Boston Celtics|  55.0|      PF|21.0|   6-8| 235.0|              LSU| 1170960.0|\n",
            "|        Kelly Olynyk|Boston Celtics|  41.0|       C|25.0|   7-0| 238.0|          Gonzaga| 2165160.0|\n",
            "|        Terry Rozier|Boston Celtics|  12.0|      PG|22.0|   6-2| 190.0|       Louisville| 1824360.0|\n",
            "|        Marcus Smart|Boston Celtics|  36.0|      PG|22.0|   6-4| 220.0|   Oklahoma State| 3431040.0|\n",
            "|     Jared Sullinger|Boston Celtics|   7.0|       C|24.0|   6-9| 260.0|       Ohio State| 2569260.0|\n",
            "|       Isaiah Thomas|Boston Celtics|   4.0|      PG|27.0|   5-9| 185.0|       Washington| 6912869.0|\n",
            "|         Evan Turner|Boston Celtics|  11.0|      SG|27.0|   6-7| 220.0|       Ohio State| 3425510.0|\n",
            "|         James Young|Boston Celtics|  13.0|      SG|20.0|   6-6| 215.0|         Kentucky| 1749840.0|\n",
            "|        Tyler Zeller|Boston Celtics|  44.0|       C|26.0|   7-0| 253.0|   North Carolina| 2616975.0|\n",
            "|    Bojan Bogdanovic| Brooklyn Nets|  44.0|      SG|27.0|   6-8| 216.0|             null| 3425510.0|\n",
            "|        Markel Brown| Brooklyn Nets|  22.0|      SG|24.0|   6-3| 190.0|   Oklahoma State|  845059.0|\n",
            "|     Wayne Ellington| Brooklyn Nets|  21.0|      SG|28.0|   6-4| 200.0|   North Carolina| 1500000.0|\n",
            "|Rondae Hollis-Jef...| Brooklyn Nets|  24.0|      SG|21.0|   6-7| 220.0|          Arizona| 1335480.0|\n",
            "+--------------------+--------------+------+--------+----+------+------+-----------------+----------+\n",
            "only showing top 20 rows\n",
            "\n"
          ]
        }
      ]
    },
    {
      "cell_type": "code",
      "source": [
        "df = spark.read.format(\"csv\").option(\"header\",\"True\").load(\"nba.csv\")\n",
        "df.show()"
      ],
      "metadata": {
        "id": "nKA3hh2AuUJ2",
        "outputId": "3b159d14-c345-4df1-82a4-c32840c7e5ba",
        "colab": {
          "base_uri": "https://localhost:8080/"
        }
      },
      "id": "nKA3hh2AuUJ2",
      "execution_count": 41,
      "outputs": [
        {
          "output_type": "stream",
          "name": "stdout",
          "text": [
            "+--------------------+--------------+------+--------+----+------+------+-----------------+----------+\n",
            "|                Name|          Team|Number|Position| Age|Height|Weight|          College|    Salary|\n",
            "+--------------------+--------------+------+--------+----+------+------+-----------------+----------+\n",
            "|       Avery Bradley|Boston Celtics|   0.0|      PG|25.0|   6-2| 180.0|            Texas| 7730337.0|\n",
            "|         Jae Crowder|Boston Celtics|  99.0|      SF|25.0|   6-6| 235.0|        Marquette| 6796117.0|\n",
            "|        John Holland|Boston Celtics|  30.0|      SG|27.0|   6-5| 205.0|Boston University|      null|\n",
            "|         R.J. Hunter|Boston Celtics|  28.0|      SG|22.0|   6-5| 185.0|    Georgia State| 1148640.0|\n",
            "|       Jonas Jerebko|Boston Celtics|   8.0|      PF|29.0|  6-10| 231.0|             null| 5000000.0|\n",
            "|        Amir Johnson|Boston Celtics|  90.0|      PF|29.0|   6-9| 240.0|             null|12000000.0|\n",
            "|       Jordan Mickey|Boston Celtics|  55.0|      PF|21.0|   6-8| 235.0|              LSU| 1170960.0|\n",
            "|        Kelly Olynyk|Boston Celtics|  41.0|       C|25.0|   7-0| 238.0|          Gonzaga| 2165160.0|\n",
            "|        Terry Rozier|Boston Celtics|  12.0|      PG|22.0|   6-2| 190.0|       Louisville| 1824360.0|\n",
            "|        Marcus Smart|Boston Celtics|  36.0|      PG|22.0|   6-4| 220.0|   Oklahoma State| 3431040.0|\n",
            "|     Jared Sullinger|Boston Celtics|   7.0|       C|24.0|   6-9| 260.0|       Ohio State| 2569260.0|\n",
            "|       Isaiah Thomas|Boston Celtics|   4.0|      PG|27.0|   5-9| 185.0|       Washington| 6912869.0|\n",
            "|         Evan Turner|Boston Celtics|  11.0|      SG|27.0|   6-7| 220.0|       Ohio State| 3425510.0|\n",
            "|         James Young|Boston Celtics|  13.0|      SG|20.0|   6-6| 215.0|         Kentucky| 1749840.0|\n",
            "|        Tyler Zeller|Boston Celtics|  44.0|       C|26.0|   7-0| 253.0|   North Carolina| 2616975.0|\n",
            "|    Bojan Bogdanovic| Brooklyn Nets|  44.0|      SG|27.0|   6-8| 216.0|             null| 3425510.0|\n",
            "|        Markel Brown| Brooklyn Nets|  22.0|      SG|24.0|   6-3| 190.0|   Oklahoma State|  845059.0|\n",
            "|     Wayne Ellington| Brooklyn Nets|  21.0|      SG|28.0|   6-4| 200.0|   North Carolina| 1500000.0|\n",
            "|Rondae Hollis-Jef...| Brooklyn Nets|  24.0|      SG|21.0|   6-7| 220.0|          Arizona| 1335480.0|\n",
            "|        Jarrett Jack| Brooklyn Nets|   2.0|      PG|32.0|   6-3| 200.0|     Georgia Tech| 6300000.0|\n",
            "+--------------------+--------------+------+--------+----+------+------+-----------------+----------+\n",
            "only showing top 20 rows\n",
            "\n"
          ]
        }
      ]
    },
    {
      "cell_type": "code",
      "source": [
        "df = df.na.drop()\n",
        "df.show()"
      ],
      "metadata": {
        "id": "m_9RgOEIuvhL",
        "outputId": "73e41257-7c2b-4307-f94e-fe283f054249",
        "colab": {
          "base_uri": "https://localhost:8080/"
        }
      },
      "id": "m_9RgOEIuvhL",
      "execution_count": 42,
      "outputs": [
        {
          "output_type": "stream",
          "name": "stdout",
          "text": [
            "+--------------------+--------------+------+--------+----+------+------+--------------+----------+\n",
            "|                Name|          Team|Number|Position| Age|Height|Weight|       College|    Salary|\n",
            "+--------------------+--------------+------+--------+----+------+------+--------------+----------+\n",
            "|       Avery Bradley|Boston Celtics|   0.0|      PG|25.0|   6-2| 180.0|         Texas| 7730337.0|\n",
            "|         Jae Crowder|Boston Celtics|  99.0|      SF|25.0|   6-6| 235.0|     Marquette| 6796117.0|\n",
            "|         R.J. Hunter|Boston Celtics|  28.0|      SG|22.0|   6-5| 185.0| Georgia State| 1148640.0|\n",
            "|       Jordan Mickey|Boston Celtics|  55.0|      PF|21.0|   6-8| 235.0|           LSU| 1170960.0|\n",
            "|        Kelly Olynyk|Boston Celtics|  41.0|       C|25.0|   7-0| 238.0|       Gonzaga| 2165160.0|\n",
            "|        Terry Rozier|Boston Celtics|  12.0|      PG|22.0|   6-2| 190.0|    Louisville| 1824360.0|\n",
            "|        Marcus Smart|Boston Celtics|  36.0|      PG|22.0|   6-4| 220.0|Oklahoma State| 3431040.0|\n",
            "|     Jared Sullinger|Boston Celtics|   7.0|       C|24.0|   6-9| 260.0|    Ohio State| 2569260.0|\n",
            "|       Isaiah Thomas|Boston Celtics|   4.0|      PG|27.0|   5-9| 185.0|    Washington| 6912869.0|\n",
            "|         Evan Turner|Boston Celtics|  11.0|      SG|27.0|   6-7| 220.0|    Ohio State| 3425510.0|\n",
            "|         James Young|Boston Celtics|  13.0|      SG|20.0|   6-6| 215.0|      Kentucky| 1749840.0|\n",
            "|        Tyler Zeller|Boston Celtics|  44.0|       C|26.0|   7-0| 253.0|North Carolina| 2616975.0|\n",
            "|        Markel Brown| Brooklyn Nets|  22.0|      SG|24.0|   6-3| 190.0|Oklahoma State|  845059.0|\n",
            "|     Wayne Ellington| Brooklyn Nets|  21.0|      SG|28.0|   6-4| 200.0|North Carolina| 1500000.0|\n",
            "|Rondae Hollis-Jef...| Brooklyn Nets|  24.0|      SG|21.0|   6-7| 220.0|       Arizona| 1335480.0|\n",
            "|        Jarrett Jack| Brooklyn Nets|   2.0|      PG|32.0|   6-3| 200.0|  Georgia Tech| 6300000.0|\n",
            "|     Sean Kilpatrick| Brooklyn Nets|   6.0|      SG|26.0|   6-4| 219.0|    Cincinnati|  134215.0|\n",
            "|        Shane Larkin| Brooklyn Nets|   0.0|      PG|23.0|  5-11| 175.0|    Miami (FL)| 1500000.0|\n",
            "|         Brook Lopez| Brooklyn Nets|  11.0|       C|28.0|   7-0| 275.0|      Stanford|19689000.0|\n",
            "|    Chris McCullough| Brooklyn Nets|   1.0|      PF|21.0|  6-11| 200.0|      Syracuse| 1140240.0|\n",
            "+--------------------+--------------+------+--------+----+------+------+--------------+----------+\n",
            "only showing top 20 rows\n",
            "\n"
          ]
        }
      ]
    },
    {
      "cell_type": "code",
      "source": [
        "df = df.filter(\"Number > 30\").filter(\"Salary > 5000000\")\n",
        "df.show()"
      ],
      "metadata": {
        "id": "dejThMWovR2k",
        "outputId": "e0d1feaa-8c32-4d7c-c5b7-e3752bf9af22",
        "colab": {
          "base_uri": "https://localhost:8080/"
        }
      },
      "id": "dejThMWovR2k",
      "execution_count": 43,
      "outputs": [
        {
          "output_type": "stream",
          "name": "stdout",
          "text": [
            "+------------------+--------------------+------+--------+----+------+------+----------------+----------+\n",
            "|              Name|                Team|Number|Position| Age|Height|Weight|         College|    Salary|\n",
            "+------------------+--------------------+------+--------+----+------+------+----------------+----------+\n",
            "|       Jae Crowder|      Boston Celtics|  99.0|      SF|25.0|   6-6| 235.0|       Marquette| 6796117.0|\n",
            "| Patrick Patterson|     Toronto Raptors|  54.0|      PF|27.0|   6-9| 235.0|        Kentucky| 6268675.0|\n",
            "|     Blake Griffin|Los Angeles Clippers|  32.0|      PF|27.0|  6-10| 251.0|        Oklahoma|18907726.0|\n",
            "|      Kosta Koufos|    Sacramento Kings|  41.0|       C|27.0|   7-0| 265.0|      Ohio State| 7700000.0|\n",
            "|     Tobias Harris|     Detroit Pistons|  34.0|      SF|23.0|   6-9| 235.0|       Tennessee|16000000.0|\n",
            "|      Corey Brewer|     Houston Rockets|  33.0|      SG|30.0|   6-9| 186.0|         Florida| 8229375.0|\n",
            "|     Zach Randolph|   Memphis Grizzlies|  50.0|      PF|34.0|   6-9| 260.0|  Michigan State| 9638555.0|\n",
            "|    Brandan Wright|   Memphis Grizzlies|  34.0|      PF|28.0|  6-10| 210.0|  North Carolina| 5464000.0|\n",
            "|     Ryan Anderson|New Orleans Pelicans|  33.0|      PF|28.0|  6-10| 240.0|      California| 8500000.0|\n",
            "|    Kenneth Faried|      Denver Nuggets|  35.0|      PF|26.0|   6-8| 228.0|  Morehead State|11235955.0|\n",
            "|Karl-Anthony Towns|Minnesota Timberw...|  32.0|       C|20.0|   7-0| 244.0|        Kentucky| 5703600.0|\n",
            "|      Kevin Durant|Oklahoma City Thu...|  35.0|      SF|27.0|   6-9| 240.0|           Texas|20158622.0|\n",
            "|       Chris Kaman|Portland Trail Bl...|  35.0|       C|34.0|   7-0| 265.0|Central Michigan| 5016000.0|\n",
            "+------------------+--------------------+------+--------+----+------+------+----------------+----------+\n",
            "\n"
          ]
        }
      ]
    },
    {
      "cell_type": "code",
      "source": [],
      "metadata": {
        "id": "_lncEdsywZxz"
      },
      "id": "_lncEdsywZxz",
      "execution_count": null,
      "outputs": []
    }
  ],
  "metadata": {
    "kernelspec": {
      "display_name": "Python 3 (ipykernel)",
      "language": "python",
      "name": "python3"
    },
    "language_info": {
      "codemirror_mode": {
        "name": "ipython",
        "version": 3
      },
      "file_extension": ".py",
      "mimetype": "text/x-python",
      "name": "python",
      "nbconvert_exporter": "python",
      "pygments_lexer": "ipython3",
      "version": "3.9.12"
    },
    "colab": {
      "provenance": []
    }
  },
  "nbformat": 4,
  "nbformat_minor": 5
}