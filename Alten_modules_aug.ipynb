{
  "cells": [
    {
      "cell_type": "code",
      "execution_count": 1,
      "id": "e185f45e",
      "metadata": {
        "colab": {
          "base_uri": "https://localhost:8080/"
        },
        "id": "e185f45e",
        "outputId": "3765d684-b43a-4ea6-b851-5a5fe919e946"
      },
      "outputs": [
        {
          "output_type": "stream",
          "name": "stdout",
          "text": [
            "Looking in indexes: https://pypi.org/simple, https://us-python.pkg.dev/colab-wheels/public/simple/\n",
            "Collecting pyspark\n",
            "  Downloading pyspark-3.3.1.tar.gz (281.4 MB)\n",
            "\u001b[K     |████████████████████████████████| 281.4 MB 42 kB/s \n",
            "\u001b[?25hCollecting py4j==0.10.9.5\n",
            "  Downloading py4j-0.10.9.5-py2.py3-none-any.whl (199 kB)\n",
            "\u001b[K     |████████████████████████████████| 199 kB 60.1 MB/s \n",
            "\u001b[?25hBuilding wheels for collected packages: pyspark\n",
            "  Building wheel for pyspark (setup.py) ... \u001b[?25l\u001b[?25hdone\n",
            "  Created wheel for pyspark: filename=pyspark-3.3.1-py2.py3-none-any.whl size=281845512 sha256=69a2d0a3a8345ebb01f555a8de7116d3917d718fcc494ce266105e2ae35fe903\n",
            "  Stored in directory: /root/.cache/pip/wheels/43/dc/11/ec201cd671da62fa9c5cc77078235e40722170ceba231d7598\n",
            "Successfully built pyspark\n",
            "Installing collected packages: py4j, pyspark\n",
            "Successfully installed py4j-0.10.9.5 pyspark-3.3.1\n",
            "Looking in indexes: https://pypi.org/simple, https://us-python.pkg.dev/colab-wheels/public/simple/\n",
            "Requirement already satisfied: py4j in /usr/local/lib/python3.8/dist-packages (0.10.9.5)\n"
          ]
        }
      ],
      "source": [
        "!pip install pyspark\n",
        "!pip install py4j\n",
        "!apt-get install openjdk-8-jdk-headless -qq > /dev/null\n",
        "!wget -q https://www.apache.org/dyn/closer.lua/spark/spark-3.3.1/spark-3.3.1-bin-hadoop3.tgz\n",
        "!pip install -q findspark\n",
        "from pyspark.context import SparkContext\n",
        "import pyspark.sql\n",
        "from pyspark.sql import SQLContext\n",
        "from pyspark.sql import SparkSession\n",
        "from pyspark import SparkFiles\n",
        "from pyspark.sql import SparkSession\n",
        "from pyspark.sql.functions import split, col \n",
        "import pyspark.sql.functions as f\n",
        "from pyspark.sql.types import StructType, StructField, StringType, IntegerType\n",
        "from pyspark.sql.functions import min, max, mean"
      ]
    },
    {
      "cell_type": "code",
      "source": [
        "from google.colab import files\n",
        "nba = files.upload()"
      ],
      "metadata": {
        "colab": {
          "base_uri": "https://localhost:8080/",
          "height": 74
        },
        "id": "oaX9orjvsnSO",
        "outputId": "2ac903e3-af3c-4a2b-ce8f-1193f1de9be2"
      },
      "id": "oaX9orjvsnSO",
      "execution_count": 2,
      "outputs": [
        {
          "output_type": "display_data",
          "data": {
            "text/plain": [
              "<IPython.core.display.HTML object>"
            ],
            "text/html": [
              "\n",
              "     <input type=\"file\" id=\"files-642960eb-1819-4409-b1bd-bcfffcccd983\" name=\"files[]\" multiple disabled\n",
              "        style=\"border:none\" />\n",
              "     <output id=\"result-642960eb-1819-4409-b1bd-bcfffcccd983\">\n",
              "      Upload widget is only available when the cell has been executed in the\n",
              "      current browser session. Please rerun this cell to enable.\n",
              "      </output>\n",
              "      <script>// Copyright 2017 Google LLC\n",
              "//\n",
              "// Licensed under the Apache License, Version 2.0 (the \"License\");\n",
              "// you may not use this file except in compliance with the License.\n",
              "// You may obtain a copy of the License at\n",
              "//\n",
              "//      http://www.apache.org/licenses/LICENSE-2.0\n",
              "//\n",
              "// Unless required by applicable law or agreed to in writing, software\n",
              "// distributed under the License is distributed on an \"AS IS\" BASIS,\n",
              "// WITHOUT WARRANTIES OR CONDITIONS OF ANY KIND, either express or implied.\n",
              "// See the License for the specific language governing permissions and\n",
              "// limitations under the License.\n",
              "\n",
              "/**\n",
              " * @fileoverview Helpers for google.colab Python module.\n",
              " */\n",
              "(function(scope) {\n",
              "function span(text, styleAttributes = {}) {\n",
              "  const element = document.createElement('span');\n",
              "  element.textContent = text;\n",
              "  for (const key of Object.keys(styleAttributes)) {\n",
              "    element.style[key] = styleAttributes[key];\n",
              "  }\n",
              "  return element;\n",
              "}\n",
              "\n",
              "// Max number of bytes which will be uploaded at a time.\n",
              "const MAX_PAYLOAD_SIZE = 100 * 1024;\n",
              "\n",
              "function _uploadFiles(inputId, outputId) {\n",
              "  const steps = uploadFilesStep(inputId, outputId);\n",
              "  const outputElement = document.getElementById(outputId);\n",
              "  // Cache steps on the outputElement to make it available for the next call\n",
              "  // to uploadFilesContinue from Python.\n",
              "  outputElement.steps = steps;\n",
              "\n",
              "  return _uploadFilesContinue(outputId);\n",
              "}\n",
              "\n",
              "// This is roughly an async generator (not supported in the browser yet),\n",
              "// where there are multiple asynchronous steps and the Python side is going\n",
              "// to poll for completion of each step.\n",
              "// This uses a Promise to block the python side on completion of each step,\n",
              "// then passes the result of the previous step as the input to the next step.\n",
              "function _uploadFilesContinue(outputId) {\n",
              "  const outputElement = document.getElementById(outputId);\n",
              "  const steps = outputElement.steps;\n",
              "\n",
              "  const next = steps.next(outputElement.lastPromiseValue);\n",
              "  return Promise.resolve(next.value.promise).then((value) => {\n",
              "    // Cache the last promise value to make it available to the next\n",
              "    // step of the generator.\n",
              "    outputElement.lastPromiseValue = value;\n",
              "    return next.value.response;\n",
              "  });\n",
              "}\n",
              "\n",
              "/**\n",
              " * Generator function which is called between each async step of the upload\n",
              " * process.\n",
              " * @param {string} inputId Element ID of the input file picker element.\n",
              " * @param {string} outputId Element ID of the output display.\n",
              " * @return {!Iterable<!Object>} Iterable of next steps.\n",
              " */\n",
              "function* uploadFilesStep(inputId, outputId) {\n",
              "  const inputElement = document.getElementById(inputId);\n",
              "  inputElement.disabled = false;\n",
              "\n",
              "  const outputElement = document.getElementById(outputId);\n",
              "  outputElement.innerHTML = '';\n",
              "\n",
              "  const pickedPromise = new Promise((resolve) => {\n",
              "    inputElement.addEventListener('change', (e) => {\n",
              "      resolve(e.target.files);\n",
              "    });\n",
              "  });\n",
              "\n",
              "  const cancel = document.createElement('button');\n",
              "  inputElement.parentElement.appendChild(cancel);\n",
              "  cancel.textContent = 'Cancel upload';\n",
              "  const cancelPromise = new Promise((resolve) => {\n",
              "    cancel.onclick = () => {\n",
              "      resolve(null);\n",
              "    };\n",
              "  });\n",
              "\n",
              "  // Wait for the user to pick the files.\n",
              "  const files = yield {\n",
              "    promise: Promise.race([pickedPromise, cancelPromise]),\n",
              "    response: {\n",
              "      action: 'starting',\n",
              "    }\n",
              "  };\n",
              "\n",
              "  cancel.remove();\n",
              "\n",
              "  // Disable the input element since further picks are not allowed.\n",
              "  inputElement.disabled = true;\n",
              "\n",
              "  if (!files) {\n",
              "    return {\n",
              "      response: {\n",
              "        action: 'complete',\n",
              "      }\n",
              "    };\n",
              "  }\n",
              "\n",
              "  for (const file of files) {\n",
              "    const li = document.createElement('li');\n",
              "    li.append(span(file.name, {fontWeight: 'bold'}));\n",
              "    li.append(span(\n",
              "        `(${file.type || 'n/a'}) - ${file.size} bytes, ` +\n",
              "        `last modified: ${\n",
              "            file.lastModifiedDate ? file.lastModifiedDate.toLocaleDateString() :\n",
              "                                    'n/a'} - `));\n",
              "    const percent = span('0% done');\n",
              "    li.appendChild(percent);\n",
              "\n",
              "    outputElement.appendChild(li);\n",
              "\n",
              "    const fileDataPromise = new Promise((resolve) => {\n",
              "      const reader = new FileReader();\n",
              "      reader.onload = (e) => {\n",
              "        resolve(e.target.result);\n",
              "      };\n",
              "      reader.readAsArrayBuffer(file);\n",
              "    });\n",
              "    // Wait for the data to be ready.\n",
              "    let fileData = yield {\n",
              "      promise: fileDataPromise,\n",
              "      response: {\n",
              "        action: 'continue',\n",
              "      }\n",
              "    };\n",
              "\n",
              "    // Use a chunked sending to avoid message size limits. See b/62115660.\n",
              "    let position = 0;\n",
              "    do {\n",
              "      const length = Math.min(fileData.byteLength - position, MAX_PAYLOAD_SIZE);\n",
              "      const chunk = new Uint8Array(fileData, position, length);\n",
              "      position += length;\n",
              "\n",
              "      const base64 = btoa(String.fromCharCode.apply(null, chunk));\n",
              "      yield {\n",
              "        response: {\n",
              "          action: 'append',\n",
              "          file: file.name,\n",
              "          data: base64,\n",
              "        },\n",
              "      };\n",
              "\n",
              "      let percentDone = fileData.byteLength === 0 ?\n",
              "          100 :\n",
              "          Math.round((position / fileData.byteLength) * 100);\n",
              "      percent.textContent = `${percentDone}% done`;\n",
              "\n",
              "    } while (position < fileData.byteLength);\n",
              "  }\n",
              "\n",
              "  // All done.\n",
              "  yield {\n",
              "    response: {\n",
              "      action: 'complete',\n",
              "    }\n",
              "  };\n",
              "}\n",
              "\n",
              "scope.google = scope.google || {};\n",
              "scope.google.colab = scope.google.colab || {};\n",
              "scope.google.colab._files = {\n",
              "  _uploadFiles,\n",
              "  _uploadFilesContinue,\n",
              "};\n",
              "})(self);\n",
              "</script> "
            ]
          },
          "metadata": {}
        },
        {
          "output_type": "stream",
          "name": "stdout",
          "text": [
            "Saving nba.csv to nba.csv\n"
          ]
        }
      ]
    },
    {
      "cell_type": "code",
      "source": [
        "from pyspark.sql import SparkSession\n",
        "spark = SparkSession.builder.master(\"local[1]\") \\\n",
        ".appName(\"ALTEN\")  \\\n",
        ".config('spark.ui.port','4050') \\\n",
        ".getOrCreate()"
      ],
      "metadata": {
        "id": "Kdmi0SJVstaY"
      },
      "id": "Kdmi0SJVstaY",
      "execution_count": 5,
      "outputs": []
    },
    {
      "cell_type": "code",
      "source": [
        "spark"
      ],
      "metadata": {
        "colab": {
          "base_uri": "https://localhost:8080/",
          "height": 222
        },
        "id": "D_jYk-H_tUqH",
        "outputId": "12a4ddee-3d07-4372-f091-7915b63de662"
      },
      "id": "D_jYk-H_tUqH",
      "execution_count": 6,
      "outputs": [
        {
          "output_type": "execute_result",
          "data": {
            "text/plain": [
              "<pyspark.sql.session.SparkSession at 0x7f86535d0790>"
            ],
            "text/html": [
              "\n",
              "            <div>\n",
              "                <p><b>SparkSession - in-memory</b></p>\n",
              "                \n",
              "        <div>\n",
              "            <p><b>SparkContext</b></p>\n",
              "\n",
              "            <p><a href=\"http://debccf4f4feb:4050\">Spark UI</a></p>\n",
              "\n",
              "            <dl>\n",
              "              <dt>Version</dt>\n",
              "                <dd><code>v3.3.1</code></dd>\n",
              "              <dt>Master</dt>\n",
              "                <dd><code>local[1]</code></dd>\n",
              "              <dt>AppName</dt>\n",
              "                <dd><code>ALTEN</code></dd>\n",
              "            </dl>\n",
              "        </div>\n",
              "        \n",
              "            </div>\n",
              "        "
            ]
          },
          "metadata": {},
          "execution_count": 6
        }
      ]
    },
    {
      "cell_type": "code",
      "source": [
        "df = spark.read.csv('nba.csv')"
      ],
      "metadata": {
        "id": "K3LCUyZ0tqSw"
      },
      "id": "K3LCUyZ0tqSw",
      "execution_count": 11,
      "outputs": []
    },
    {
      "cell_type": "code",
      "source": [
        "df.show()\n"
      ],
      "metadata": {
        "colab": {
          "base_uri": "https://localhost:8080/"
        },
        "id": "NRMC_mE9tzNi",
        "outputId": "9d1f711b-955c-47d5-9fe9-1bc2af0a03db"
      },
      "id": "NRMC_mE9tzNi",
      "execution_count": 12,
      "outputs": [
        {
          "output_type": "stream",
          "name": "stdout",
          "text": [
            "+--------------------+--------------+------+--------+----+------+------+-----------------+----------+\n",
            "|                 _c0|           _c1|   _c2|     _c3| _c4|   _c5|   _c6|              _c7|       _c8|\n",
            "+--------------------+--------------+------+--------+----+------+------+-----------------+----------+\n",
            "|                Name|          Team|Number|Position| Age|Height|Weight|          College|    Salary|\n",
            "|       Avery Bradley|Boston Celtics|   0.0|      PG|25.0|   6-2| 180.0|            Texas| 7730337.0|\n",
            "|         Jae Crowder|Boston Celtics|  99.0|      SF|25.0|   6-6| 235.0|        Marquette| 6796117.0|\n",
            "|        John Holland|Boston Celtics|  30.0|      SG|27.0|   6-5| 205.0|Boston University|      null|\n",
            "|         R.J. Hunter|Boston Celtics|  28.0|      SG|22.0|   6-5| 185.0|    Georgia State| 1148640.0|\n",
            "|       Jonas Jerebko|Boston Celtics|   8.0|      PF|29.0|  6-10| 231.0|             null| 5000000.0|\n",
            "|        Amir Johnson|Boston Celtics|  90.0|      PF|29.0|   6-9| 240.0|             null|12000000.0|\n",
            "|       Jordan Mickey|Boston Celtics|  55.0|      PF|21.0|   6-8| 235.0|              LSU| 1170960.0|\n",
            "|        Kelly Olynyk|Boston Celtics|  41.0|       C|25.0|   7-0| 238.0|          Gonzaga| 2165160.0|\n",
            "|        Terry Rozier|Boston Celtics|  12.0|      PG|22.0|   6-2| 190.0|       Louisville| 1824360.0|\n",
            "|        Marcus Smart|Boston Celtics|  36.0|      PG|22.0|   6-4| 220.0|   Oklahoma State| 3431040.0|\n",
            "|     Jared Sullinger|Boston Celtics|   7.0|       C|24.0|   6-9| 260.0|       Ohio State| 2569260.0|\n",
            "|       Isaiah Thomas|Boston Celtics|   4.0|      PG|27.0|   5-9| 185.0|       Washington| 6912869.0|\n",
            "|         Evan Turner|Boston Celtics|  11.0|      SG|27.0|   6-7| 220.0|       Ohio State| 3425510.0|\n",
            "|         James Young|Boston Celtics|  13.0|      SG|20.0|   6-6| 215.0|         Kentucky| 1749840.0|\n",
            "|        Tyler Zeller|Boston Celtics|  44.0|       C|26.0|   7-0| 253.0|   North Carolina| 2616975.0|\n",
            "|    Bojan Bogdanovic| Brooklyn Nets|  44.0|      SG|27.0|   6-8| 216.0|             null| 3425510.0|\n",
            "|        Markel Brown| Brooklyn Nets|  22.0|      SG|24.0|   6-3| 190.0|   Oklahoma State|  845059.0|\n",
            "|     Wayne Ellington| Brooklyn Nets|  21.0|      SG|28.0|   6-4| 200.0|   North Carolina| 1500000.0|\n",
            "|Rondae Hollis-Jef...| Brooklyn Nets|  24.0|      SG|21.0|   6-7| 220.0|          Arizona| 1335480.0|\n",
            "+--------------------+--------------+------+--------+----+------+------+-----------------+----------+\n",
            "only showing top 20 rows\n",
            "\n"
          ]
        }
      ]
    },
    {
      "cell_type": "code",
      "source": [
        "df = spark.read.format(\"csv\").option(\"header\",\"True\").load(\"nba.csv\")\n",
        "df.show()"
      ],
      "metadata": {
        "colab": {
          "base_uri": "https://localhost:8080/"
        },
        "id": "nKA3hh2AuUJ2",
        "outputId": "3f3342bc-ac2c-4cb9-b25b-0c415e4894b9"
      },
      "id": "nKA3hh2AuUJ2",
      "execution_count": 64,
      "outputs": [
        {
          "output_type": "stream",
          "name": "stdout",
          "text": [
            "+--------------------+--------------+------+--------+----+------+------+-----------------+----------+\n",
            "|                Name|          Team|Number|Position| Age|Height|Weight|          College|    Salary|\n",
            "+--------------------+--------------+------+--------+----+------+------+-----------------+----------+\n",
            "|       Avery Bradley|Boston Celtics|   0.0|      PG|25.0|   6-2| 180.0|            Texas| 7730337.0|\n",
            "|         Jae Crowder|Boston Celtics|  99.0|      SF|25.0|   6-6| 235.0|        Marquette| 6796117.0|\n",
            "|        John Holland|Boston Celtics|  30.0|      SG|27.0|   6-5| 205.0|Boston University|      null|\n",
            "|         R.J. Hunter|Boston Celtics|  28.0|      SG|22.0|   6-5| 185.0|    Georgia State| 1148640.0|\n",
            "|       Jonas Jerebko|Boston Celtics|   8.0|      PF|29.0|  6-10| 231.0|             null| 5000000.0|\n",
            "|        Amir Johnson|Boston Celtics|  90.0|      PF|29.0|   6-9| 240.0|             null|12000000.0|\n",
            "|       Jordan Mickey|Boston Celtics|  55.0|      PF|21.0|   6-8| 235.0|              LSU| 1170960.0|\n",
            "|        Kelly Olynyk|Boston Celtics|  41.0|       C|25.0|   7-0| 238.0|          Gonzaga| 2165160.0|\n",
            "|        Terry Rozier|Boston Celtics|  12.0|      PG|22.0|   6-2| 190.0|       Louisville| 1824360.0|\n",
            "|        Marcus Smart|Boston Celtics|  36.0|      PG|22.0|   6-4| 220.0|   Oklahoma State| 3431040.0|\n",
            "|     Jared Sullinger|Boston Celtics|   7.0|       C|24.0|   6-9| 260.0|       Ohio State| 2569260.0|\n",
            "|       Isaiah Thomas|Boston Celtics|   4.0|      PG|27.0|   5-9| 185.0|       Washington| 6912869.0|\n",
            "|         Evan Turner|Boston Celtics|  11.0|      SG|27.0|   6-7| 220.0|       Ohio State| 3425510.0|\n",
            "|         James Young|Boston Celtics|  13.0|      SG|20.0|   6-6| 215.0|         Kentucky| 1749840.0|\n",
            "|        Tyler Zeller|Boston Celtics|  44.0|       C|26.0|   7-0| 253.0|   North Carolina| 2616975.0|\n",
            "|    Bojan Bogdanovic| Brooklyn Nets|  44.0|      SG|27.0|   6-8| 216.0|             null| 3425510.0|\n",
            "|        Markel Brown| Brooklyn Nets|  22.0|      SG|24.0|   6-3| 190.0|   Oklahoma State|  845059.0|\n",
            "|     Wayne Ellington| Brooklyn Nets|  21.0|      SG|28.0|   6-4| 200.0|   North Carolina| 1500000.0|\n",
            "|Rondae Hollis-Jef...| Brooklyn Nets|  24.0|      SG|21.0|   6-7| 220.0|          Arizona| 1335480.0|\n",
            "|        Jarrett Jack| Brooklyn Nets|   2.0|      PG|32.0|   6-3| 200.0|     Georgia Tech| 6300000.0|\n",
            "+--------------------+--------------+------+--------+----+------+------+-----------------+----------+\n",
            "only showing top 20 rows\n",
            "\n"
          ]
        }
      ]
    },
    {
      "cell_type": "code",
      "source": [
        "dfna = df.na.drop()\n",
        "dfna.show()"
      ],
      "metadata": {
        "colab": {
          "base_uri": "https://localhost:8080/"
        },
        "id": "m_9RgOEIuvhL",
        "outputId": "b82574df-c636-4bbe-c948-ca7bcf8910ad"
      },
      "id": "m_9RgOEIuvhL",
      "execution_count": 65,
      "outputs": [
        {
          "output_type": "stream",
          "name": "stdout",
          "text": [
            "+--------------------+--------------+------+--------+----+------+------+--------------+----------+\n",
            "|                Name|          Team|Number|Position| Age|Height|Weight|       College|    Salary|\n",
            "+--------------------+--------------+------+--------+----+------+------+--------------+----------+\n",
            "|       Avery Bradley|Boston Celtics|   0.0|      PG|25.0|   6-2| 180.0|         Texas| 7730337.0|\n",
            "|         Jae Crowder|Boston Celtics|  99.0|      SF|25.0|   6-6| 235.0|     Marquette| 6796117.0|\n",
            "|         R.J. Hunter|Boston Celtics|  28.0|      SG|22.0|   6-5| 185.0| Georgia State| 1148640.0|\n",
            "|       Jordan Mickey|Boston Celtics|  55.0|      PF|21.0|   6-8| 235.0|           LSU| 1170960.0|\n",
            "|        Kelly Olynyk|Boston Celtics|  41.0|       C|25.0|   7-0| 238.0|       Gonzaga| 2165160.0|\n",
            "|        Terry Rozier|Boston Celtics|  12.0|      PG|22.0|   6-2| 190.0|    Louisville| 1824360.0|\n",
            "|        Marcus Smart|Boston Celtics|  36.0|      PG|22.0|   6-4| 220.0|Oklahoma State| 3431040.0|\n",
            "|     Jared Sullinger|Boston Celtics|   7.0|       C|24.0|   6-9| 260.0|    Ohio State| 2569260.0|\n",
            "|       Isaiah Thomas|Boston Celtics|   4.0|      PG|27.0|   5-9| 185.0|    Washington| 6912869.0|\n",
            "|         Evan Turner|Boston Celtics|  11.0|      SG|27.0|   6-7| 220.0|    Ohio State| 3425510.0|\n",
            "|         James Young|Boston Celtics|  13.0|      SG|20.0|   6-6| 215.0|      Kentucky| 1749840.0|\n",
            "|        Tyler Zeller|Boston Celtics|  44.0|       C|26.0|   7-0| 253.0|North Carolina| 2616975.0|\n",
            "|        Markel Brown| Brooklyn Nets|  22.0|      SG|24.0|   6-3| 190.0|Oklahoma State|  845059.0|\n",
            "|     Wayne Ellington| Brooklyn Nets|  21.0|      SG|28.0|   6-4| 200.0|North Carolina| 1500000.0|\n",
            "|Rondae Hollis-Jef...| Brooklyn Nets|  24.0|      SG|21.0|   6-7| 220.0|       Arizona| 1335480.0|\n",
            "|        Jarrett Jack| Brooklyn Nets|   2.0|      PG|32.0|   6-3| 200.0|  Georgia Tech| 6300000.0|\n",
            "|     Sean Kilpatrick| Brooklyn Nets|   6.0|      SG|26.0|   6-4| 219.0|    Cincinnati|  134215.0|\n",
            "|        Shane Larkin| Brooklyn Nets|   0.0|      PG|23.0|  5-11| 175.0|    Miami (FL)| 1500000.0|\n",
            "|         Brook Lopez| Brooklyn Nets|  11.0|       C|28.0|   7-0| 275.0|      Stanford|19689000.0|\n",
            "|    Chris McCullough| Brooklyn Nets|   1.0|      PF|21.0|  6-11| 200.0|      Syracuse| 1140240.0|\n",
            "+--------------------+--------------+------+--------+----+------+------+--------------+----------+\n",
            "only showing top 20 rows\n",
            "\n"
          ]
        }
      ]
    },
    {
      "cell_type": "code",
      "source": [
        "df2 = dfna.filter(\"Number < 10\").filter(\"Salary > 10000\")\n",
        "df2.show()"
      ],
      "metadata": {
        "colab": {
          "base_uri": "https://localhost:8080/"
        },
        "id": "dejThMWovR2k",
        "outputId": "5cfbc20e-261d-4b68-8547-c28b1d0f6868"
      },
      "id": "dejThMWovR2k",
      "execution_count": 69,
      "outputs": [
        {
          "output_type": "stream",
          "name": "stdout",
          "text": [
            "+-----------------+------------------+------+--------+----+------+------+--------------+----------+\n",
            "|             Name|              Team|Number|Position| Age|Height|Weight|       College|    Salary|\n",
            "+-----------------+------------------+------+--------+----+------+------+--------------+----------+\n",
            "|    Avery Bradley|    Boston Celtics|   0.0|      PG|25.0|   6-2| 180.0|         Texas| 7730337.0|\n",
            "|  Jared Sullinger|    Boston Celtics|   7.0|       C|24.0|   6-9| 260.0|    Ohio State| 2569260.0|\n",
            "|    Isaiah Thomas|    Boston Celtics|   4.0|      PG|27.0|   5-9| 185.0|    Washington| 6912869.0|\n",
            "|     Jarrett Jack|     Brooklyn Nets|   2.0|      PG|32.0|   6-3| 200.0|  Georgia Tech| 6300000.0|\n",
            "|  Sean Kilpatrick|     Brooklyn Nets|   6.0|      SG|26.0|   6-4| 219.0|    Cincinnati|  134215.0|\n",
            "|     Shane Larkin|     Brooklyn Nets|   0.0|      PG|23.0|  5-11| 175.0|    Miami (FL)| 1500000.0|\n",
            "| Chris McCullough|     Brooklyn Nets|   1.0|      PF|21.0|  6-11| 200.0|      Syracuse| 1140240.0|\n",
            "|    Arron Afflalo|   New York Knicks|   4.0|      SG|30.0|   6-5| 210.0|          UCLA| 8000000.0|\n",
            "|  Carmelo Anthony|   New York Knicks|   7.0|      SF|32.0|   6-8| 240.0|      Syracuse|22875000.0|\n",
            "|Langston Galloway|   New York Knicks|   2.0|      SG|24.0|   6-2| 200.0|Saint Joseph's|  845059.0|\n",
            "|      Robin Lopez|   New York Knicks|   8.0|       C|28.0|   7-0| 255.0|      Stanford|12650000.0|\n",
            "|     Kyle O'Quinn|   New York Knicks|   9.0|      PF|26.0|  6-10| 250.0| Norfolk State| 3750000.0|\n",
            "|      Tony Wroten|   New York Knicks|   5.0|      SG|23.0|   6-6| 205.0|    Washington|  167406.0|\n",
            "|    Isaiah Canaan|Philadelphia 76ers|   0.0|      PG|25.0|   6-0| 201.0|  Murray State|  947276.0|\n",
            "|      Carl Landry|Philadelphia 76ers|   7.0|      PF|32.0|   6-9| 248.0|        Purdue| 6500000.0|\n",
            "| Kendall Marshall|Philadelphia 76ers|   5.0|      PG|24.0|   6-4| 200.0|North Carolina| 2144772.0|\n",
            "|     Nerlens Noel|Philadelphia 76ers|   4.0|      PF|22.0|  6-11| 228.0|      Kentucky| 3457800.0|\n",
            "|    Jahlil Okafor|Philadelphia 76ers|   8.0|       C|20.0|  6-11| 275.0|          Duke| 4582680.0|\n",
            "|        Ish Smith|Philadelphia 76ers|   1.0|      PG|27.0|   6-0| 175.0|   Wake Forest|  947276.0|\n",
            "|  DeMarre Carroll|   Toronto Raptors|   5.0|      SF|29.0|   6-8| 212.0|      Missouri|13600000.0|\n",
            "+-----------------+------------------+------+--------+----+------+------+--------------+----------+\n",
            "only showing top 20 rows\n",
            "\n"
          ]
        }
      ]
    },
    {
      "cell_type": "code",
      "source": [
        "df3 = df2.filter(\"Age >= 25.0 \").select(['Number','Name','Position','Team','College'])\n",
        "df3.show()"
      ],
      "metadata": {
        "colab": {
          "base_uri": "https://localhost:8080/"
        },
        "id": "_lncEdsywZxz",
        "outputId": "4bc3a425-824c-4e9c-cac2-f41c6d00873f"
      },
      "id": "_lncEdsywZxz",
      "execution_count": 85,
      "outputs": [
        {
          "output_type": "stream",
          "name": "stdout",
          "text": [
            "+------+-----------------+--------+--------------------+-------------+\n",
            "|Number|             Name|Position|                Team|      College|\n",
            "+------+-----------------+--------+--------------------+-------------+\n",
            "|   0.0|    Avery Bradley|      PG|      Boston Celtics|        Texas|\n",
            "|   4.0|    Isaiah Thomas|      PG|      Boston Celtics|   Washington|\n",
            "|   2.0|     Jarrett Jack|      PG|       Brooklyn Nets| Georgia Tech|\n",
            "|   6.0|  Sean Kilpatrick|      SG|       Brooklyn Nets|   Cincinnati|\n",
            "|   4.0|    Arron Afflalo|      SG|     New York Knicks|         UCLA|\n",
            "|   7.0|  Carmelo Anthony|      SF|     New York Knicks|     Syracuse|\n",
            "|   8.0|      Robin Lopez|       C|     New York Knicks|     Stanford|\n",
            "|   9.0|     Kyle O'Quinn|      PF|     New York Knicks|Norfolk State|\n",
            "|   0.0|    Isaiah Canaan|      PG|  Philadelphia 76ers| Murray State|\n",
            "|   7.0|      Carl Landry|      PF|  Philadelphia 76ers|       Purdue|\n",
            "|   1.0|        Ish Smith|      PG|  Philadelphia 76ers|  Wake Forest|\n",
            "|   5.0|  DeMarre Carroll|      SF|     Toronto Raptors|     Missouri|\n",
            "|   3.0|    James Johnson|      PF|     Toronto Raptors|  Wake Forest|\n",
            "|   7.0|       Kyle Lowry|      PG|     Toronto Raptors|    Villanova|\n",
            "|   1.0|   Jason Thompson|      PF|     Toronto Raptors|        Rider|\n",
            "|   9.0|   Andre Iguodala|      SF|Golden State Warr...|      Arizona|\n",
            "|   4.0|     Brandon Rush|      SF|Golden State Warr...|       Kansas|\n",
            "|   5.0|Marreese Speights|       C|Golden State Warr...|      Florida|\n",
            "|   8.0|       Jeff Green|      SF|Los Angeles Clippers|   Georgetown|\n",
            "|   6.0|   DeAndre Jordan|       C|Los Angeles Clippers|    Texas A&M|\n",
            "+------+-----------------+--------+--------------------+-------------+\n",
            "only showing top 20 rows\n",
            "\n"
          ]
        }
      ]
    },
    {
      "cell_type": "code",
      "source": [
        "df.printSchema()\n",
        "df3.printSchema()"
      ],
      "metadata": {
        "id": "V74yM8370LXE",
        "outputId": "7ac0df70-d36b-49c9-8b1f-621ef32b181b",
        "colab": {
          "base_uri": "https://localhost:8080/"
        }
      },
      "id": "V74yM8370LXE",
      "execution_count": 76,
      "outputs": [
        {
          "output_type": "stream",
          "name": "stdout",
          "text": [
            "root\n",
            " |-- Name: string (nullable = true)\n",
            " |-- Team: string (nullable = true)\n",
            " |-- Number: string (nullable = true)\n",
            " |-- Position: string (nullable = true)\n",
            " |-- Age: string (nullable = true)\n",
            " |-- Height: string (nullable = true)\n",
            " |-- Weight: string (nullable = true)\n",
            " |-- College: string (nullable = true)\n",
            " |-- Salary: string (nullable = true)\n",
            "\n",
            "root\n",
            " |-- Number: string (nullable = true)\n",
            " |-- Name: string (nullable = true)\n",
            " |-- Position: string (nullable = true)\n",
            " |-- Team: string (nullable = true)\n",
            " |-- College: string (nullable = true)\n",
            "\n"
          ]
        }
      ]
    },
    {
      "cell_type": "code",
      "source": [
        "df3.orderBy(df3.Number.asc()).show()"
      ],
      "metadata": {
        "id": "cA4VDGdS1uJ3",
        "outputId": "26c135b5-c6cf-4bd4-9427-c5c6e04d85da",
        "colab": {
          "base_uri": "https://localhost:8080/"
        }
      },
      "id": "cA4VDGdS1uJ3",
      "execution_count": 92,
      "outputs": [
        {
          "output_type": "stream",
          "name": "stdout",
          "text": [
            "+------+-----------------+--------+--------------------+----------------+\n",
            "|Number|             Name|Position|                Team|         College|\n",
            "+------+-----------------+--------+--------------------+----------------+\n",
            "|   0.0|   Darrell Arthur|      PF|      Denver Nuggets|          Kansas|\n",
            "|   0.0|    Avery Bradley|      PG|      Boston Celtics|           Texas|\n",
            "|   0.0|    Isaiah Canaan|      PG|  Philadelphia 76ers|    Murray State|\n",
            "|   0.0|    Spencer Hawes|      PF|   Charlotte Hornets|      Washington|\n",
            "|   0.0|Russell Westbrook|      PG|Oklahoma City Thu...|            UCLA|\n",
            "|   0.0|   Damian Lillard|      PG|Portland Trail Bl...|     Weber State|\n",
            "|   0.0| Andrew Goudelock|      PG|     Houston Rockets|      Charleston|\n",
            "|   0.0|       Nick Young|      SF|  Los Angeles Lakers|             USC|\n",
            "|   0.0|   JaMychal Green|      PF|   Memphis Grizzlies|         Alabama|\n",
            "|   0.0|     Aaron Brooks|      PG|       Chicago Bulls|          Oregon|\n",
            "|   0.0|  Orlando Johnson|      SG|New Orleans Pelicans|UC Santa Barbara|\n",
            "|   0.0|      Jeff Teague|      PG|       Atlanta Hawks|     Wake Forest|\n",
            "|   0.0|       Kevin Love|      PF| Cleveland Cavaliers|            UCLA|\n",
            "|   1.0|        Ish Smith|      PG|  Philadelphia 76ers|     Wake Forest|\n",
            "|   1.0|     Trevor Ariza|      SF|     Houston Rockets|            UCLA|\n",
            "|   1.0|   Reggie Jackson|      PG|     Detroit Pistons|  Boston College|\n",
            "|   1.0|   Jason Thompson|      PF|     Toronto Raptors|           Rider|\n",
            "|   1.0|     Tyreke Evans|      SG|New Orleans Pelicans|         Memphis|\n",
            "|   1.0|      James Jones|      SG| Cleveland Cavaliers|      Miami (FL)|\n",
            "|   1.0|       Chris Bosh|      PF|          Miami Heat|    Georgia Tech|\n",
            "+------+-----------------+--------+--------------------+----------------+\n",
            "only showing top 20 rows\n",
            "\n"
          ]
        }
      ]
    },
    {
      "cell_type": "code",
      "source": [
        "\n",
        "df4 = df3.orderBy(df3.Name.desc(),df3.Team.asc())\n",
        "df4.show()\n",
        "\"\"\" Its RUN but the thing is only first orderby work \"\"\""
      ],
      "metadata": {
        "id": "VYHfpwET2duj",
        "outputId": "ad549919-7ce3-42bb-fbe7-19830cb259e4",
        "colab": {
          "base_uri": "https://localhost:8080/",
          "height": 510
        }
      },
      "id": "VYHfpwET2duj",
      "execution_count": 94,
      "outputs": [
        {
          "output_type": "stream",
          "name": "stdout",
          "text": [
            "+------+-----------------+--------+--------------------+------------------+\n",
            "|Number|             Name|Position|                Team|           College|\n",
            "+------+-----------------+--------+--------------------+------------------+\n",
            "|   5.0|      Will Barton|      SF|      Denver Nuggets|           Memphis|\n",
            "|   1.0|     Tyreke Evans|      SG|New Orleans Pelicans|           Memphis|\n",
            "|   1.0|     Trevor Ariza|      SF|     Houston Rockets|              UCLA|\n",
            "|   9.0|       Tony Allen|      SG|   Memphis Grizzlies|    Oklahoma State|\n",
            "|   2.0|      Tim Frazier|      PG|New Orleans Pelicans|        Penn State|\n",
            "|   6.0|      Steve Novak|      SF|     Milwaukee Bucks|         Marquette|\n",
            "|   0.0|    Spencer Hawes|      PF|   Charlotte Hornets|        Washington|\n",
            "|   8.0|     Shelvin Mack|      PG|           Utah Jazz|            Butler|\n",
            "|   6.0|  Sean Kilpatrick|      SG|       Brooklyn Nets|        Cincinnati|\n",
            "|   4.0|       Ryan Kelly|      PF|  Los Angeles Lakers|              Duke|\n",
            "|   0.0|Russell Westbrook|      PG|Oklahoma City Thu...|              UCLA|\n",
            "|   8.0|         Rudy Gay|      SF|    Sacramento Kings|       Connecticut|\n",
            "|   2.0|   Rodney Stuckey|      PG|      Indiana Pacers|Eastern Washington|\n",
            "|   8.0|      Robin Lopez|       C|     New York Knicks|          Stanford|\n",
            "|   1.0|   Reggie Jackson|      PG|     Detroit Pistons|    Boston College|\n",
            "|   2.0|   Raymond Felton|      PG|    Dallas Mavericks|    North Carolina|\n",
            "|   6.0|       Randy Foye|      SG|Oklahoma City Thu...|         Villanova|\n",
            "|   7.0|   Ramon Sessions|      PG|  Washington Wizards|            Nevada|\n",
            "|   9.0|      Rajon Rondo|      PG|    Sacramento Kings|          Kentucky|\n",
            "|   4.0|     Paul Millsap|      PF|       Atlanta Hawks|    Louisiana Tech|\n",
            "+------+-----------------+--------+--------------------+------------------+\n",
            "only showing top 20 rows\n",
            "\n"
          ]
        },
        {
          "output_type": "execute_result",
          "data": {
            "text/plain": [
              "' Its RUN but the thing is only first orderby work '"
            ],
            "application/vnd.google.colaboratory.intrinsic+json": {
              "type": "string"
            }
          },
          "metadata": {},
          "execution_count": 94
        }
      ]
    },
    {
      "cell_type": "code",
      "source": [
        "df4.write.csv('filter.csv')\n",
        "df4.write.csv('filter2.csv')"
      ],
      "metadata": {
        "id": "MJQeMD3C3knS",
        "outputId": "47cc8615-7def-4cc4-97b3-538429cb37e6",
        "colab": {
          "base_uri": "https://localhost:8080/",
          "height": 172
        }
      },
      "id": "MJQeMD3C3knS",
      "execution_count": 101,
      "outputs": [
        {
          "output_type": "error",
          "ename": "AttributeError",
          "evalue": "ignored",
          "traceback": [
            "\u001b[0;31m---------------------------------------------------------------------------\u001b[0m",
            "\u001b[0;31mAttributeError\u001b[0m                            Traceback (most recent call last)",
            "\u001b[0;32m<ipython-input-101-4f86d49e4c85>\u001b[0m in \u001b[0;36m<module>\u001b[0;34m\u001b[0m\n\u001b[0;32m----> 1\u001b[0;31m \u001b[0mdf4\u001b[0m\u001b[0;34m.\u001b[0m\u001b[0mwrite\u001b[0m\u001b[0;34m.\u001b[0m\u001b[0mcsv\u001b[0m\u001b[0;34m(\u001b[0m\u001b[0;34m'filter3.csv'\u001b[0m\u001b[0;34m)\u001b[0m\u001b[0;34m.\u001b[0m\u001b[0mSchema\u001b[0m\u001b[0;34m(\u001b[0m\u001b[0;32mTrue\u001b[0m\u001b[0;34m)\u001b[0m\u001b[0;34m\u001b[0m\u001b[0;34m\u001b[0m\u001b[0m\n\u001b[0m",
            "\u001b[0;31mAttributeError\u001b[0m: 'NoneType' object has no attribute 'Schema'"
          ]
        }
      ]
    },
    {
      "cell_type": "code",
      "source": [
        "new = spark.read.csv('filter.csv')\n",
        "new.show()"
      ],
      "metadata": {
        "id": "vImp7tqV45-u",
        "outputId": "faddfaaf-f9fc-4f57-8c18-c30625fa5987",
        "colab": {
          "base_uri": "https://localhost:8080/"
        }
      },
      "id": "vImp7tqV45-u",
      "execution_count": 96,
      "outputs": [
        {
          "output_type": "stream",
          "name": "stdout",
          "text": [
            "+---+-----------------+---+--------------------+------------------+\n",
            "|_c0|              _c1|_c2|                 _c3|               _c4|\n",
            "+---+-----------------+---+--------------------+------------------+\n",
            "|5.0|      Will Barton| SF|      Denver Nuggets|           Memphis|\n",
            "|1.0|     Tyreke Evans| SG|New Orleans Pelicans|           Memphis|\n",
            "|1.0|     Trevor Ariza| SF|     Houston Rockets|              UCLA|\n",
            "|9.0|       Tony Allen| SG|   Memphis Grizzlies|    Oklahoma State|\n",
            "|2.0|      Tim Frazier| PG|New Orleans Pelicans|        Penn State|\n",
            "|6.0|      Steve Novak| SF|     Milwaukee Bucks|         Marquette|\n",
            "|0.0|    Spencer Hawes| PF|   Charlotte Hornets|        Washington|\n",
            "|8.0|     Shelvin Mack| PG|           Utah Jazz|            Butler|\n",
            "|6.0|  Sean Kilpatrick| SG|       Brooklyn Nets|        Cincinnati|\n",
            "|4.0|       Ryan Kelly| PF|  Los Angeles Lakers|              Duke|\n",
            "|0.0|Russell Westbrook| PG|Oklahoma City Thu...|              UCLA|\n",
            "|8.0|         Rudy Gay| SF|    Sacramento Kings|       Connecticut|\n",
            "|2.0|   Rodney Stuckey| PG|      Indiana Pacers|Eastern Washington|\n",
            "|8.0|      Robin Lopez|  C|     New York Knicks|          Stanford|\n",
            "|1.0|   Reggie Jackson| PG|     Detroit Pistons|    Boston College|\n",
            "|2.0|   Raymond Felton| PG|    Dallas Mavericks|    North Carolina|\n",
            "|6.0|       Randy Foye| SG|Oklahoma City Thu...|         Villanova|\n",
            "|7.0|   Ramon Sessions| PG|  Washington Wizards|            Nevada|\n",
            "|9.0|      Rajon Rondo| PG|    Sacramento Kings|          Kentucky|\n",
            "|4.0|     Paul Millsap| PF|       Atlanta Hawks|    Louisiana Tech|\n",
            "+---+-----------------+---+--------------------+------------------+\n",
            "only showing top 20 rows\n",
            "\n"
          ]
        }
      ]
    },
    {
      "cell_type": "code",
      "source": [],
      "metadata": {
        "id": "Zx-kcBre5Jed"
      },
      "id": "Zx-kcBre5Jed",
      "execution_count": null,
      "outputs": []
    }
  ],
  "metadata": {
    "kernelspec": {
      "display_name": "Python 3 (ipykernel)",
      "language": "python",
      "name": "python3"
    },
    "language_info": {
      "codemirror_mode": {
        "name": "ipython",
        "version": 3
      },
      "file_extension": ".py",
      "mimetype": "text/x-python",
      "name": "python",
      "nbconvert_exporter": "python",
      "pygments_lexer": "ipython3",
      "version": "3.9.12"
    },
    "colab": {
      "provenance": []
    }
  },
  "nbformat": 4,
  "nbformat_minor": 5
}