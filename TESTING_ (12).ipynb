{
  "cells": [
    {
      "cell_type": "code",
      "source": [
        "!pip install pyspark\n",
        "!pip install py4j\n",
        "!apt-get install openjdk-8-jdk-headless -qq > /dev/null\n",
        "!wget -q https://www.apache.org/dyn/closer.lua/spark/spark-3.3.1/spark-3.3.1-bin-hadoop3.tgz\n",
        "!pip install -q findspark"
      ],
      "metadata": {
        "id": "RCnxH_T4JIuq",
        "outputId": "337c6b11-cf7f-4183-9b47-799fe21401aa",
        "colab": {
          "base_uri": "https://localhost:8080/"
        }
      },
      "execution_count": 1,
      "outputs": [
        {
          "output_type": "stream",
          "name": "stdout",
          "text": [
            "Looking in indexes: https://pypi.org/simple, https://us-python.pkg.dev/colab-wheels/public/simple/\n",
            "Collecting pyspark\n",
            "  Downloading pyspark-3.3.1.tar.gz (281.4 MB)\n",
            "\u001b[2K     \u001b[90m━━━━━━━━━━━━━━━━━━━━━━━━━━━━━━━━━━━━━━━\u001b[0m \u001b[32m281.4/281.4 MB\u001b[0m \u001b[31m4.6 MB/s\u001b[0m eta \u001b[36m0:00:00\u001b[0m\n",
            "\u001b[?25h  Preparing metadata (setup.py) ... \u001b[?25l\u001b[?25hdone\n",
            "Collecting py4j==0.10.9.5\n",
            "  Downloading py4j-0.10.9.5-py2.py3-none-any.whl (199 kB)\n",
            "\u001b[2K     \u001b[90m━━━━━━━━━━━━━━━━━━━━━━━━━━━━━━━━━━━━━━\u001b[0m \u001b[32m199.7/199.7 KB\u001b[0m \u001b[31m23.0 MB/s\u001b[0m eta \u001b[36m0:00:00\u001b[0m\n",
            "\u001b[?25hBuilding wheels for collected packages: pyspark\n",
            "  Building wheel for pyspark (setup.py) ... \u001b[?25l\u001b[?25hdone\n",
            "  Created wheel for pyspark: filename=pyspark-3.3.1-py2.py3-none-any.whl size=281845512 sha256=762cd7e092333bfb77ba53aed3557b84733fead98f00005c2fac96d69f5dadec\n",
            "  Stored in directory: /root/.cache/pip/wheels/43/dc/11/ec201cd671da62fa9c5cc77078235e40722170ceba231d7598\n",
            "Successfully built pyspark\n",
            "Installing collected packages: py4j, pyspark\n",
            "Successfully installed py4j-0.10.9.5 pyspark-3.3.1\n",
            "Looking in indexes: https://pypi.org/simple, https://us-python.pkg.dev/colab-wheels/public/simple/\n",
            "Requirement already satisfied: py4j in /usr/local/lib/python3.8/dist-packages (0.10.9.5)\n"
          ]
        }
      ]
    },
    {
      "cell_type": "code",
      "source": [
        "import pyspark.sql\n",
        "from pyspark.sql import SparkSession\n",
        "spark = SparkSession.builder.master(\"local\").appName(\"Colab\").config('spark.ui.port','4050').getOrCreate()"
      ],
      "metadata": {
        "id": "osP4rREZJJY0"
      },
      "execution_count": 2,
      "outputs": []
    },
    {
      "cell_type": "code",
      "source": [
        "from google.colab import files\n",
        "movies = files.upload()"
      ],
      "metadata": {
        "id": "f0RaVSdKJM5R",
        "outputId": "5998a953-91ba-467f-ca19-91d6e6a57241",
        "colab": {
          "base_uri": "https://localhost:8080/",
          "height": 74
        }
      },
      "execution_count": 6,
      "outputs": [
        {
          "output_type": "display_data",
          "data": {
            "text/plain": [
              "<IPython.core.display.HTML object>"
            ],
            "text/html": [
              "\n",
              "     <input type=\"file\" id=\"files-3e9951fc-266a-4fa9-acdc-59e6b81a6e6c\" name=\"files[]\" multiple disabled\n",
              "        style=\"border:none\" />\n",
              "     <output id=\"result-3e9951fc-266a-4fa9-acdc-59e6b81a6e6c\">\n",
              "      Upload widget is only available when the cell has been executed in the\n",
              "      current browser session. Please rerun this cell to enable.\n",
              "      </output>\n",
              "      <script>// Copyright 2017 Google LLC\n",
              "//\n",
              "// Licensed under the Apache License, Version 2.0 (the \"License\");\n",
              "// you may not use this file except in compliance with the License.\n",
              "// You may obtain a copy of the License at\n",
              "//\n",
              "//      http://www.apache.org/licenses/LICENSE-2.0\n",
              "//\n",
              "// Unless required by applicable law or agreed to in writing, software\n",
              "// distributed under the License is distributed on an \"AS IS\" BASIS,\n",
              "// WITHOUT WARRANTIES OR CONDITIONS OF ANY KIND, either express or implied.\n",
              "// See the License for the specific language governing permissions and\n",
              "// limitations under the License.\n",
              "\n",
              "/**\n",
              " * @fileoverview Helpers for google.colab Python module.\n",
              " */\n",
              "(function(scope) {\n",
              "function span(text, styleAttributes = {}) {\n",
              "  const element = document.createElement('span');\n",
              "  element.textContent = text;\n",
              "  for (const key of Object.keys(styleAttributes)) {\n",
              "    element.style[key] = styleAttributes[key];\n",
              "  }\n",
              "  return element;\n",
              "}\n",
              "\n",
              "// Max number of bytes which will be uploaded at a time.\n",
              "const MAX_PAYLOAD_SIZE = 100 * 1024;\n",
              "\n",
              "function _uploadFiles(inputId, outputId) {\n",
              "  const steps = uploadFilesStep(inputId, outputId);\n",
              "  const outputElement = document.getElementById(outputId);\n",
              "  // Cache steps on the outputElement to make it available for the next call\n",
              "  // to uploadFilesContinue from Python.\n",
              "  outputElement.steps = steps;\n",
              "\n",
              "  return _uploadFilesContinue(outputId);\n",
              "}\n",
              "\n",
              "// This is roughly an async generator (not supported in the browser yet),\n",
              "// where there are multiple asynchronous steps and the Python side is going\n",
              "// to poll for completion of each step.\n",
              "// This uses a Promise to block the python side on completion of each step,\n",
              "// then passes the result of the previous step as the input to the next step.\n",
              "function _uploadFilesContinue(outputId) {\n",
              "  const outputElement = document.getElementById(outputId);\n",
              "  const steps = outputElement.steps;\n",
              "\n",
              "  const next = steps.next(outputElement.lastPromiseValue);\n",
              "  return Promise.resolve(next.value.promise).then((value) => {\n",
              "    // Cache the last promise value to make it available to the next\n",
              "    // step of the generator.\n",
              "    outputElement.lastPromiseValue = value;\n",
              "    return next.value.response;\n",
              "  });\n",
              "}\n",
              "\n",
              "/**\n",
              " * Generator function which is called between each async step of the upload\n",
              " * process.\n",
              " * @param {string} inputId Element ID of the input file picker element.\n",
              " * @param {string} outputId Element ID of the output display.\n",
              " * @return {!Iterable<!Object>} Iterable of next steps.\n",
              " */\n",
              "function* uploadFilesStep(inputId, outputId) {\n",
              "  const inputElement = document.getElementById(inputId);\n",
              "  inputElement.disabled = false;\n",
              "\n",
              "  const outputElement = document.getElementById(outputId);\n",
              "  outputElement.innerHTML = '';\n",
              "\n",
              "  const pickedPromise = new Promise((resolve) => {\n",
              "    inputElement.addEventListener('change', (e) => {\n",
              "      resolve(e.target.files);\n",
              "    });\n",
              "  });\n",
              "\n",
              "  const cancel = document.createElement('button');\n",
              "  inputElement.parentElement.appendChild(cancel);\n",
              "  cancel.textContent = 'Cancel upload';\n",
              "  const cancelPromise = new Promise((resolve) => {\n",
              "    cancel.onclick = () => {\n",
              "      resolve(null);\n",
              "    };\n",
              "  });\n",
              "\n",
              "  // Wait for the user to pick the files.\n",
              "  const files = yield {\n",
              "    promise: Promise.race([pickedPromise, cancelPromise]),\n",
              "    response: {\n",
              "      action: 'starting',\n",
              "    }\n",
              "  };\n",
              "\n",
              "  cancel.remove();\n",
              "\n",
              "  // Disable the input element since further picks are not allowed.\n",
              "  inputElement.disabled = true;\n",
              "\n",
              "  if (!files) {\n",
              "    return {\n",
              "      response: {\n",
              "        action: 'complete',\n",
              "      }\n",
              "    };\n",
              "  }\n",
              "\n",
              "  for (const file of files) {\n",
              "    const li = document.createElement('li');\n",
              "    li.append(span(file.name, {fontWeight: 'bold'}));\n",
              "    li.append(span(\n",
              "        `(${file.type || 'n/a'}) - ${file.size} bytes, ` +\n",
              "        `last modified: ${\n",
              "            file.lastModifiedDate ? file.lastModifiedDate.toLocaleDateString() :\n",
              "                                    'n/a'} - `));\n",
              "    const percent = span('0% done');\n",
              "    li.appendChild(percent);\n",
              "\n",
              "    outputElement.appendChild(li);\n",
              "\n",
              "    const fileDataPromise = new Promise((resolve) => {\n",
              "      const reader = new FileReader();\n",
              "      reader.onload = (e) => {\n",
              "        resolve(e.target.result);\n",
              "      };\n",
              "      reader.readAsArrayBuffer(file);\n",
              "    });\n",
              "    // Wait for the data to be ready.\n",
              "    let fileData = yield {\n",
              "      promise: fileDataPromise,\n",
              "      response: {\n",
              "        action: 'continue',\n",
              "      }\n",
              "    };\n",
              "\n",
              "    // Use a chunked sending to avoid message size limits. See b/62115660.\n",
              "    let position = 0;\n",
              "    do {\n",
              "      const length = Math.min(fileData.byteLength - position, MAX_PAYLOAD_SIZE);\n",
              "      const chunk = new Uint8Array(fileData, position, length);\n",
              "      position += length;\n",
              "\n",
              "      const base64 = btoa(String.fromCharCode.apply(null, chunk));\n",
              "      yield {\n",
              "        response: {\n",
              "          action: 'append',\n",
              "          file: file.name,\n",
              "          data: base64,\n",
              "        },\n",
              "      };\n",
              "\n",
              "      let percentDone = fileData.byteLength === 0 ?\n",
              "          100 :\n",
              "          Math.round((position / fileData.byteLength) * 100);\n",
              "      percent.textContent = `${percentDone}% done`;\n",
              "\n",
              "    } while (position < fileData.byteLength);\n",
              "  }\n",
              "\n",
              "  // All done.\n",
              "  yield {\n",
              "    response: {\n",
              "      action: 'complete',\n",
              "    }\n",
              "  };\n",
              "}\n",
              "\n",
              "scope.google = scope.google || {};\n",
              "scope.google.colab = scope.google.colab || {};\n",
              "scope.google.colab._files = {\n",
              "  _uploadFiles,\n",
              "  _uploadFilesContinue,\n",
              "};\n",
              "})(self);\n",
              "</script> "
            ]
          },
          "metadata": {}
        },
        {
          "output_type": "stream",
          "name": "stdout",
          "text": [
            "Saving nba.csv to nba.csv\n"
          ]
        }
      ]
    },
    {
      "cell_type": "code",
      "source": [
        "df = spark.read.csv('nba.csv')\n",
        "df.show()"
      ],
      "metadata": {
        "id": "K5gNai2eKJ47",
        "outputId": "bf849bbf-c3eb-4d1d-90aa-30c435fcbca7",
        "colab": {
          "base_uri": "https://localhost:8080/"
        }
      },
      "execution_count": 7,
      "outputs": [
        {
          "output_type": "stream",
          "name": "stdout",
          "text": [
            "+--------------------+--------------+------+--------+----+------+------+-----------------+----------+\n",
            "|                 _c0|           _c1|   _c2|     _c3| _c4|   _c5|   _c6|              _c7|       _c8|\n",
            "+--------------------+--------------+------+--------+----+------+------+-----------------+----------+\n",
            "|                Name|          Team|Number|Position| Age|Height|Weight|          College|    Salary|\n",
            "|       Avery Bradley|Boston Celtics|   0.0|      PG|25.0|   6-2| 180.0|            Texas| 7730337.0|\n",
            "|         Jae Crowder|Boston Celtics|  99.0|      SF|25.0|   6-6| 235.0|        Marquette| 6796117.0|\n",
            "|        John Holland|Boston Celtics|  30.0|      SG|27.0|   6-5| 205.0|Boston University|      null|\n",
            "|         R.J. Hunter|Boston Celtics|  28.0|      SG|22.0|   6-5| 185.0|    Georgia State| 1148640.0|\n",
            "|       Jonas Jerebko|Boston Celtics|   8.0|      PF|29.0|  6-10| 231.0|             null| 5000000.0|\n",
            "|        Amir Johnson|Boston Celtics|  90.0|      PF|29.0|   6-9| 240.0|             null|12000000.0|\n",
            "|       Jordan Mickey|Boston Celtics|  55.0|      PF|21.0|   6-8| 235.0|              LSU| 1170960.0|\n",
            "|        Kelly Olynyk|Boston Celtics|  41.0|       C|25.0|   7-0| 238.0|          Gonzaga| 2165160.0|\n",
            "|        Terry Rozier|Boston Celtics|  12.0|      PG|22.0|   6-2| 190.0|       Louisville| 1824360.0|\n",
            "|        Marcus Smart|Boston Celtics|  36.0|      PG|22.0|   6-4| 220.0|   Oklahoma State| 3431040.0|\n",
            "|     Jared Sullinger|Boston Celtics|   7.0|       C|24.0|   6-9| 260.0|       Ohio State| 2569260.0|\n",
            "|       Isaiah Thomas|Boston Celtics|   4.0|      PG|27.0|   5-9| 185.0|       Washington| 6912869.0|\n",
            "|         Evan Turner|Boston Celtics|  11.0|      SG|27.0|   6-7| 220.0|       Ohio State| 3425510.0|\n",
            "|         James Young|Boston Celtics|  13.0|      SG|20.0|   6-6| 215.0|         Kentucky| 1749840.0|\n",
            "|        Tyler Zeller|Boston Celtics|  44.0|       C|26.0|   7-0| 253.0|   North Carolina| 2616975.0|\n",
            "|    Bojan Bogdanovic| Brooklyn Nets|  44.0|      SG|27.0|   6-8| 216.0|             null| 3425510.0|\n",
            "|        Markel Brown| Brooklyn Nets|  22.0|      SG|24.0|   6-3| 190.0|   Oklahoma State|  845059.0|\n",
            "|     Wayne Ellington| Brooklyn Nets|  21.0|      SG|28.0|   6-4| 200.0|   North Carolina| 1500000.0|\n",
            "|Rondae Hollis-Jef...| Brooklyn Nets|  24.0|      SG|21.0|   6-7| 220.0|          Arizona| 1335480.0|\n",
            "+--------------------+--------------+------+--------+----+------+------+-----------------+----------+\n",
            "only showing top 20 rows\n",
            "\n"
          ]
        }
      ]
    },
    {
      "cell_type": "code",
      "source": [
        "df = spark.read.format(\"csv\").option(\"header\",\"True\").load(\"nba.csv\")\n",
        "df.show(4)"
      ],
      "metadata": {
        "id": "ITL4gO28LS_F",
        "outputId": "33030567-cc87-4368-8784-c66c1de696fc",
        "colab": {
          "base_uri": "https://localhost:8080/"
        }
      },
      "execution_count": 9,
      "outputs": [
        {
          "output_type": "stream",
          "name": "stdout",
          "text": [
            "+-------------+--------------+------+--------+----+------+------+-----------------+---------+\n",
            "|         Name|          Team|Number|Position| Age|Height|Weight|          College|   Salary|\n",
            "+-------------+--------------+------+--------+----+------+------+-----------------+---------+\n",
            "|Avery Bradley|Boston Celtics|   0.0|      PG|25.0|   6-2| 180.0|            Texas|7730337.0|\n",
            "|  Jae Crowder|Boston Celtics|  99.0|      SF|25.0|   6-6| 235.0|        Marquette|6796117.0|\n",
            "| John Holland|Boston Celtics|  30.0|      SG|27.0|   6-5| 205.0|Boston University|     null|\n",
            "|  R.J. Hunter|Boston Celtics|  28.0|      SG|22.0|   6-5| 185.0|    Georgia State|1148640.0|\n",
            "+-------------+--------------+------+--------+----+------+------+-----------------+---------+\n",
            "only showing top 4 rows\n",
            "\n"
          ]
        }
      ]
    },
    {
      "cell_type": "markdown",
      "source": [
        "concat\n",
        "\n",
        "Concatenates a list of strings into a single string, separated by the specified separator. bold text"
      ],
      "metadata": {
        "id": "RgnbpTRaLpjx"
      }
    },
    {
      "cell_type": "code",
      "source": [
        "from pyspark.sql.functions import concat\n",
        "df.show(4)\n",
        "df.select(concat(df.Name, df.Number)).show(4)"
      ],
      "metadata": {
        "id": "y_RIoF78LX0z",
        "outputId": "e6e5fe6e-a355-4c74-852c-0e6f8538af13",
        "colab": {
          "base_uri": "https://localhost:8080/"
        }
      },
      "execution_count": 14,
      "outputs": [
        {
          "output_type": "stream",
          "name": "stdout",
          "text": [
            "+-------------+--------------+------+--------+----+------+------+-----------------+---------+\n",
            "|         Name|          Team|Number|Position| Age|Height|Weight|          College|   Salary|\n",
            "+-------------+--------------+------+--------+----+------+------+-----------------+---------+\n",
            "|Avery Bradley|Boston Celtics|   0.0|      PG|25.0|   6-2| 180.0|            Texas|7730337.0|\n",
            "|  Jae Crowder|Boston Celtics|  99.0|      SF|25.0|   6-6| 235.0|        Marquette|6796117.0|\n",
            "| John Holland|Boston Celtics|  30.0|      SG|27.0|   6-5| 205.0|Boston University|     null|\n",
            "|  R.J. Hunter|Boston Celtics|  28.0|      SG|22.0|   6-5| 185.0|    Georgia State|1148640.0|\n",
            "+-------------+--------------+------+--------+----+------+------+-----------------+---------+\n",
            "only showing top 4 rows\n",
            "\n",
            "+--------------------+\n",
            "|concat(Name, Number)|\n",
            "+--------------------+\n",
            "|    Avery Bradley0.0|\n",
            "|     Jae Crowder99.0|\n",
            "|    John Holland30.0|\n",
            "|     R.J. Hunter28.0|\n",
            "+--------------------+\n",
            "only showing top 4 rows\n",
            "\n"
          ]
        }
      ]
    },
    {
      "cell_type": "markdown",
      "source": [
        "concat_ws\n",
        "\n",
        "Concatenates a list of strings into a single string, separated by the specified separator. Unlike concat, concat_ws takes the separator as the first argument.bold text"
      ],
      "metadata": {
        "id": "vedS_Q4zNU1L"
      }
    },
    {
      "cell_type": "code",
      "source": [
        "from pyspark.sql.functions import concat_ws\n",
        "\n",
        "df.show(4)\n",
        "df.select(concat_ws(\"--->\",df.Name, df.Number)).show(4)"
      ],
      "metadata": {
        "id": "jVlmsItDMCm5",
        "outputId": "ec2346a0-56f8-4948-ff09-b7b4f8fcce4f",
        "colab": {
          "base_uri": "https://localhost:8080/"
        }
      },
      "execution_count": 19,
      "outputs": [
        {
          "output_type": "stream",
          "name": "stdout",
          "text": [
            "+-------------+--------------+------+--------+----+------+------+-----------------+---------+\n",
            "|         Name|          Team|Number|Position| Age|Height|Weight|          College|   Salary|\n",
            "+-------------+--------------+------+--------+----+------+------+-----------------+---------+\n",
            "|Avery Bradley|Boston Celtics|   0.0|      PG|25.0|   6-2| 180.0|            Texas|7730337.0|\n",
            "|  Jae Crowder|Boston Celtics|  99.0|      SF|25.0|   6-6| 235.0|        Marquette|6796117.0|\n",
            "| John Holland|Boston Celtics|  30.0|      SG|27.0|   6-5| 205.0|Boston University|     null|\n",
            "|  R.J. Hunter|Boston Celtics|  28.0|      SG|22.0|   6-5| 185.0|    Georgia State|1148640.0|\n",
            "+-------------+--------------+------+--------+----+------+------+-----------------+---------+\n",
            "only showing top 4 rows\n",
            "\n",
            "+-----------------------------+\n",
            "|concat_ws(--->, Name, Number)|\n",
            "+-----------------------------+\n",
            "|         Avery Bradley--->0.0|\n",
            "|          Jae Crowder--->99.0|\n",
            "|         John Holland--->30.0|\n",
            "|          R.J. Hunter--->28.0|\n",
            "+-----------------------------+\n",
            "only showing top 4 rows\n",
            "\n"
          ]
        }
      ]
    },
    {
      "cell_type": "markdown",
      "source": [
        "dayofyear\n",
        "\n",
        "Returns the day of the year for a given date as an integer. "
      ],
      "metadata": {
        "id": "Lk06P64ZON1v"
      }
    },
    {
      "cell_type": "code",
      "source": [
        "from pyspark.sql.functions import date_format\n",
        "from pyspark.sql.functions import dayofyear\n",
        "from pyspark.sql.functions import dayofmonth\n",
        "\n",
        "dfdate = spark.createDataFrame([(\"2022-01-25\",)], [\"date\"])\n",
        "dfdate.show()\n",
        "dfdate.select(date_format(df.date, \"dd/MM/yyyy\")).show()\n",
        "dfdate.select(dayofyear(df.date).alias(\"day_of_year\")).show()\n",
        "dfdate.select(dayofmonth(df.date).alias(\"day_of_month\")).show()\n"
      ],
      "metadata": {
        "id": "3lbyIDp9N10n",
        "outputId": "02c0ad9c-45b1-4048-96a8-3af017858644",
        "colab": {
          "base_uri": "https://localhost:8080/",
          "height": 477
        }
      },
      "execution_count": 25,
      "outputs": [
        {
          "output_type": "stream",
          "name": "stdout",
          "text": [
            "+----------+\n",
            "|      date|\n",
            "+----------+\n",
            "|2022-01-25|\n",
            "+----------+\n",
            "\n"
          ]
        },
        {
          "output_type": "error",
          "ename": "AttributeError",
          "evalue": "ignored",
          "traceback": [
            "\u001b[0;31m---------------------------------------------------------------------------\u001b[0m",
            "\u001b[0;31mAttributeError\u001b[0m                            Traceback (most recent call last)",
            "\u001b[0;32m<ipython-input-25-8e5998fef1b6>\u001b[0m in \u001b[0;36m<module>\u001b[0;34m\u001b[0m\n\u001b[1;32m      6\u001b[0m \u001b[0mdfdate\u001b[0m\u001b[0;34m.\u001b[0m\u001b[0mshow\u001b[0m\u001b[0;34m(\u001b[0m\u001b[0;34m)\u001b[0m\u001b[0;34m\u001b[0m\u001b[0;34m\u001b[0m\u001b[0m\n\u001b[1;32m      7\u001b[0m \u001b[0;31m#dfdate.select(date_format(df.date, \"dd/MM/yyyy\")).show()\u001b[0m\u001b[0;34m\u001b[0m\u001b[0;34m\u001b[0m\u001b[0;34m\u001b[0m\u001b[0m\n\u001b[0;32m----> 8\u001b[0;31m \u001b[0mdfdate\u001b[0m\u001b[0;34m.\u001b[0m\u001b[0mselect\u001b[0m\u001b[0;34m(\u001b[0m\u001b[0mdayofyear\u001b[0m\u001b[0;34m(\u001b[0m\u001b[0mdf\u001b[0m\u001b[0;34m.\u001b[0m\u001b[0mdate\u001b[0m\u001b[0;34m)\u001b[0m\u001b[0;34m.\u001b[0m\u001b[0malias\u001b[0m\u001b[0;34m(\u001b[0m\u001b[0;34m\"day_of_year\"\u001b[0m\u001b[0;34m)\u001b[0m\u001b[0;34m)\u001b[0m\u001b[0;34m.\u001b[0m\u001b[0mshow\u001b[0m\u001b[0;34m(\u001b[0m\u001b[0;34m)\u001b[0m\u001b[0;34m\u001b[0m\u001b[0;34m\u001b[0m\u001b[0m\n\u001b[0m\u001b[1;32m      9\u001b[0m \u001b[0mdfdate\u001b[0m\u001b[0;34m.\u001b[0m\u001b[0mselect\u001b[0m\u001b[0;34m(\u001b[0m\u001b[0mdayofmonth\u001b[0m\u001b[0;34m(\u001b[0m\u001b[0mdf\u001b[0m\u001b[0;34m.\u001b[0m\u001b[0mdate\u001b[0m\u001b[0;34m)\u001b[0m\u001b[0;34m.\u001b[0m\u001b[0malias\u001b[0m\u001b[0;34m(\u001b[0m\u001b[0;34m\"day_of_month\"\u001b[0m\u001b[0;34m)\u001b[0m\u001b[0;34m)\u001b[0m\u001b[0;34m.\u001b[0m\u001b[0mshow\u001b[0m\u001b[0;34m(\u001b[0m\u001b[0;34m)\u001b[0m\u001b[0;34m\u001b[0m\u001b[0;34m\u001b[0m\u001b[0m\n",
            "\u001b[0;32m/usr/local/lib/python3.8/dist-packages/pyspark/sql/dataframe.py\u001b[0m in \u001b[0;36m__getattr__\u001b[0;34m(self, name)\u001b[0m\n\u001b[1;32m   1986\u001b[0m         \"\"\"\n\u001b[1;32m   1987\u001b[0m         \u001b[0;32mif\u001b[0m \u001b[0mname\u001b[0m \u001b[0;32mnot\u001b[0m \u001b[0;32min\u001b[0m \u001b[0mself\u001b[0m\u001b[0;34m.\u001b[0m\u001b[0mcolumns\u001b[0m\u001b[0;34m:\u001b[0m\u001b[0;34m\u001b[0m\u001b[0;34m\u001b[0m\u001b[0m\n\u001b[0;32m-> 1988\u001b[0;31m             raise AttributeError(\n\u001b[0m\u001b[1;32m   1989\u001b[0m                 \u001b[0;34m\"'%s' object has no attribute '%s'\"\u001b[0m \u001b[0;34m%\u001b[0m \u001b[0;34m(\u001b[0m\u001b[0mself\u001b[0m\u001b[0;34m.\u001b[0m\u001b[0m__class__\u001b[0m\u001b[0;34m.\u001b[0m\u001b[0m__name__\u001b[0m\u001b[0;34m,\u001b[0m \u001b[0mname\u001b[0m\u001b[0;34m)\u001b[0m\u001b[0;34m\u001b[0m\u001b[0;34m\u001b[0m\u001b[0m\n\u001b[1;32m   1990\u001b[0m             )\n",
            "\u001b[0;31mAttributeError\u001b[0m: 'DataFrame' object has no attribute 'date'"
          ]
        }
      ]
    },
    {
      "cell_type": "code",
      "source": [
        "from pyspark.sql.functions import date_format\n",
        "from pyspark.sql.functions import dayofyear\n",
        "from pyspark.sql.functions import dayofmonth\n",
        "from pyspark.sql.functions import dayofweek\n",
        "\n",
        "df = spark.createDataFrame([(\"2022-01-25\",)], [\"date\"])\n",
        "\n",
        "df.select(date_format(df.date, \"dd/MM/yyyy\").alias(\"formatted_date\")).show()\n",
        "df.select(dayofyear(df.date).alias(\"day_of_year\")).show()\n",
        "df.select(dayofmonth(df.date).alias(\"day_of_month\")).show()\n",
        "df.select(dayofweek(df.date).alias(\"day_of_week\")).show()\n"
      ],
      "metadata": {
        "id": "Q4KLO3bjPCJe",
        "outputId": "0b3f8047-145f-47d9-8e1b-3b2589414c31",
        "colab": {
          "base_uri": "https://localhost:8080/"
        }
      },
      "execution_count": 31,
      "outputs": [
        {
          "output_type": "stream",
          "name": "stdout",
          "text": [
            "+--------------+\n",
            "|formatted_date|\n",
            "+--------------+\n",
            "|    25/01/2022|\n",
            "+--------------+\n",
            "\n",
            "+-----------+\n",
            "|day_of_year|\n",
            "+-----------+\n",
            "|         25|\n",
            "+-----------+\n",
            "\n",
            "+------------+\n",
            "|day_of_month|\n",
            "+------------+\n",
            "|          25|\n",
            "+------------+\n",
            "\n",
            "+-----------+\n",
            "|day_of_week|\n",
            "+-----------+\n",
            "|          3|\n",
            "+-----------+\n",
            "\n"
          ]
        }
      ]
    },
    {
      "cell_type": "code",
      "source": [],
      "metadata": {
        "id": "gV_JghkHP1Gx"
      },
      "execution_count": null,
      "outputs": []
    },
    {
      "cell_type": "markdown",
      "source": [
        "explode\n",
        "\n",
        "Creates a new row for each element in the given array or map column."
      ],
      "metadata": {
        "id": "xX3AbUWaQ0m9"
      }
    },
    {
      "cell_type": "code",
      "source": [
        "from pyspark.sql.functions import explode\n",
        "\n",
        "data = spark.createDataFrame([([\"a\", \"b\", \"c\"],)], [\"letters\"])\n",
        "data.show()\n",
        "data.select(explode(data.letters).alias(\"letters\")).show()"
      ],
      "metadata": {
        "id": "CDhz3ITMQ20E",
        "outputId": "35d5b7b9-6363-4248-d550-b6552134d7fa",
        "colab": {
          "base_uri": "https://localhost:8080/"
        }
      },
      "execution_count": 34,
      "outputs": [
        {
          "output_type": "stream",
          "name": "stdout",
          "text": [
            "+---------+\n",
            "|  letters|\n",
            "+---------+\n",
            "|[a, b, c]|\n",
            "+---------+\n",
            "\n",
            "+-------+\n",
            "|letters|\n",
            "+-------+\n",
            "|      a|\n",
            "|      b|\n",
            "|      c|\n",
            "+-------+\n",
            "\n"
          ]
        }
      ]
    },
    {
      "cell_type": "markdown",
      "source": [
        "translate\n",
        "\n",
        "Replaces all characters in a string that match a map of replacements with their corresponding values."
      ],
      "metadata": {
        "id": "X9GIPmI5RQug"
      }
    },
    {
      "cell_type": "code",
      "source": [
        "from pyspark.sql.functions import translate\n",
        "\n",
        "transdata = spark.createDataFrame([(\"Rishabh Vaibhav\",)], [\"Name\"])\n",
        "transdata.show()\n",
        "transdata.select(translate(transdata.Name, \"bh\", \"BH\").alias(\"translated\")).show()"
      ],
      "metadata": {
        "id": "ZbmuFwi9Q_5z",
        "outputId": "9b3f635b-a10b-4d18-8e54-3cb49bec913d",
        "colab": {
          "base_uri": "https://localhost:8080/"
        }
      },
      "execution_count": 38,
      "outputs": [
        {
          "output_type": "stream",
          "name": "stdout",
          "text": [
            "+---------------+\n",
            "|           Name|\n",
            "+---------------+\n",
            "|Rishabh Vaibhav|\n",
            "+---------------+\n",
            "\n",
            "+---------------+\n",
            "|     translated|\n",
            "+---------------+\n",
            "|RisHaBH VaiBHav|\n",
            "+---------------+\n",
            "\n"
          ]
        }
      ]
    },
    {
      "cell_type": "markdown",
      "source": [
        "trim\n",
        "\n",
        "Trims leading and trailing whitespace from a string."
      ],
      "metadata": {
        "id": "v7CcduxwRzCr"
      }
    },
    {
      "cell_type": "code",
      "source": [
        "from pyspark.sql.functions import trim\n",
        "\n",
        "datatrim = spark.createDataFrame([(\"   Rishabh   \",)], [\"Name\"])\n",
        "\n",
        "datatrim.select(trim(datatrim.Name).alias(\"trimmed\")).show() "
      ],
      "metadata": {
        "id": "CLyh-EHyRe7O",
        "outputId": "d687b8aa-7e6f-4907-d40b-4f1039d883f6",
        "colab": {
          "base_uri": "https://localhost:8080/"
        }
      },
      "execution_count": 43,
      "outputs": [
        {
          "output_type": "stream",
          "name": "stdout",
          "text": [
            "+-------+\n",
            "|trimmed|\n",
            "+-------+\n",
            "|Rishabh|\n",
            "+-------+\n",
            "\n"
          ]
        }
      ]
    },
    {
      "cell_type": "code",
      "source": [],
      "metadata": {
        "id": "VcOVIucFSDZv"
      },
      "execution_count": null,
      "outputs": []
    }
  ],
  "metadata": {
    "kernelspec": {
      "display_name": "Python 3 (ipykernel)",
      "language": "python",
      "name": "python3"
    },
    "language_info": {
      "codemirror_mode": {
        "name": "ipython",
        "version": 3
      },
      "file_extension": ".py",
      "mimetype": "text/x-python",
      "name": "python",
      "nbconvert_exporter": "python",
      "pygments_lexer": "ipython3",
      "version": "3.9.7"
    },
    "colab": {
      "provenance": []
    }
  },
  "nbformat": 4,
  "nbformat_minor": 0
}